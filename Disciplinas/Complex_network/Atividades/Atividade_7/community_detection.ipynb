{
 "cells": [
  {
   "cell_type": "code",
   "execution_count": 12,
   "id": "080beea5-a365-419d-8aa0-f4ecb237c016",
   "metadata": {},
   "outputs": [],
   "source": [
    "import igraph as ig\n",
    "import networkx as nx\n",
    "import matplotlib.colors as mcolors\n",
    "import matplotlib.pyplot as plt\n",
    "import random\n",
    "import seaborn as sns\n",
    "from sklearn.metrics.cluster import normalized_mutual_info_score\n",
    "import numpy as np"
   ]
  },
  {
   "cell_type": "code",
   "execution_count": 13,
   "id": "aa2fb02e-dfa5-4581-b45b-fd8d79268852",
   "metadata": {},
   "outputs": [],
   "source": [
    "# Eq (9.18) from the book\n",
    "def mu_func(p_int, p_ext, Nc):\n",
    "    k_ext = (p_ext*3*Nc)\n",
    "    k_int = (p_int*(Nc-1))\n",
    "    mu = k_ext / (k_ext+k_int)\n",
    "    return mu"
   ]
  },
  {
   "cell_type": "code",
   "execution_count": 14,
   "id": "a57cbcb4-62b3-4d2b-8912-ded6cc873a9f",
   "metadata": {},
   "outputs": [],
   "source": [
    "mu_v = []  # list of mu values\n",
    "nmi_v = []  # list of nmi values\n",
    "p_ext = np.arange(0, 0.8,0.05)  # list of p_ext values"
   ]
  },
  {
   "cell_type": "code",
   "execution_count": 15,
   "id": "8008d8d4-3efc-4023-b98c-e2a79e278f6e",
   "metadata": {},
   "outputs": [
    {
     "data": {
      "text/plain": [
       "16"
      ]
     },
     "execution_count": 15,
     "metadata": {},
     "output_type": "execute_result"
    }
   ],
   "source": [
    "len(p_ext)"
   ]
  },
  {
   "cell_type": "code",
   "execution_count": null,
   "id": "2e037eda-f87f-4ec0-b7ae-c00428bdcce0",
   "metadata": {},
   "outputs": [],
   "source": [
    "for i in p_ext:\n",
    "\n",
    "    # GIRVAN-NEWMAN BENCHMARK --------------------------------------------------------------------\n",
    "\n",
    "    # Parameters\n",
    "    N = 128  # number of nodes\n",
    "    p_int = 0.5  # probability of connecting to nodes of the same community\n",
    "    p_ext = i  # probability of connecting to nodes from other\n",
    "\n",
    "    Nc = N/4  # Size of each community\n",
    "\n",
    "    #print(\"Parameters:\")\n",
    "    #print(\"N = \", N)\n",
    "    #print(\"Nc = \", Nc)\n",
    "    #print(\"p_int = \", p_int)\n",
    "    #print(\"p_ext = \", p_ext)\n",
    "\n",
    "    mu = mu_func(p_int, p_ext, Nc)\n",
    "    mu_v.append(mu)\n",
    "    print('Mu = ', mu, '    from Eq (9.18)\\n')\n",
    "\n",
    "    # Probabilities inter/intra communities\n",
    "    pref_matrix = [[p_int, p_ext, p_ext, p_ext],\n",
    "                   [p_ext, p_int, p_ext, p_ext],\n",
    "                   [p_ext, p_ext, p_int, p_ext],\n",
    "                   [p_ext, p_ext, p_ext, p_int]]\n",
    "\n",
    "    block_sizes = [Nc, Nc, Nc, Nc]\n",
    "    directed = False\n",
    "    loops = False\n",
    "\n",
    "    # Generating the graph with the community structure (GN-benchmark)\n",
    "    # Reference: https://igraph.org/python/doc/api/igraph._igraph.GraphBase.html#SBM\n",
    "    g = ig.Graph.SBM(N, pref_matrix, block_sizes, directed, loops)\n",
    "\n",
    "    # Ground truth\n",
    "    block = 1\n",
    "    for i in range(g.vcount()):\n",
    "        # To keep the real community label of each node\n",
    "        g.vs[i]['comm'] = block\n",
    "        if i != 0 and (i+1) % Nc == 0:\n",
    "            block += 1\n",
    "\n",
    "    # Coordinates to improve the network visualization:\n",
    "    dist = 50\n",
    "    step = 15\n",
    "    x = 0\n",
    "    y = 0\n",
    "    block = 1\n",
    "    layout = []\n",
    "    for i in range(g.vcount()):\n",
    "        layout.append((x+random.randint(0, step), y+random.randint(0, step)))\n",
    "\n",
    "        if i != 0 and (i+1) % Nc == 0:\n",
    "            if block % 2 == 1:\n",
    "                x += dist\n",
    "            else:\n",
    "                x = 0\n",
    "                y += dist\n",
    "            block += 1\n",
    "    # ----------------------------------------------------------------------------------------------\n",
    "\n",
    "    # INFOMAP algorithm for community detection\n",
    "    c = g.community_infomap()\n",
    "\n",
    "    # number of communities\n",
    "    nc = len(c)\n",
    "\n",
    "    # COMPUTING THE NORMALIZED MUTUAL INFORMATION (Eq 9.19 from the Network Science book) -------------\n",
    "\n",
    "    # We first create an array with the predicted community labels\n",
    "    N = g.vcount()\n",
    "    predicted_labels = np.zeros(N)\n",
    "    print(c)\n",
    "    for i in range(nc):\n",
    "        # for each node in a community\n",
    "        for v in c[i]:\n",
    "            predicted_labels[v] = i\n",
    "\n",
    "    # Ground truth according to the GN-benchmark\n",
    "    ground_truth = np.array(g.vs['comm'])\n",
    "\n",
    "    # Now we compare the predicted labels with the ground truth using the Normalized Mutual Information\n",
    "    NMI = normalized_mutual_info_score(ground_truth, predicted_labels)\n",
    "    nmi_v.append(NMI)\n",
    "    print(\"\\nNormalized mutual information: \", NMI)\n",
    "\n",
    "    # ------------------------------------------------------------------------------------------------\n",
    "\n",
    "    # Plotting\n",
    "\n",
    "    # List of matplotlib colors\n",
    "    # colors = list(mcolors.CSS4_COLORS)\n",
    "\n",
    "    # Same color to the members of a community\n",
    "    # for i in range(nc):\n",
    "    # \tg.vs[c[i]]['color'] = colors[i]\n",
    "\n",
    "    # visual_style = {}\n",
    "    # visual_style['color'] = g.vs['color']\n",
    "    # ig.plot(g, layout=layout, **visual_style)"
   ]
  },
  {
   "cell_type": "code",
   "execution_count": 31,
   "id": "46b9cf0e-0415-4a59-9d53-38f56a7e2383",
   "metadata": {},
   "outputs": [
    {
     "data": {
      "text/plain": [
       "Text(0.5, 1.0, 'GN Benchmark')"
      ]
     },
     "execution_count": 31,
     "metadata": {},
     "output_type": "execute_result"
    },
    {
     "data": {
      "image/png": "[encoded data removed]",
      "text/plain": [
       "<Figure size 432x288 with 1 Axes>"
      ]
     },
     "metadata": {
      "needs_background": "light"
     },
     "output_type": "display_data"
    }
   ],
   "source": [
    "plt.plot(mu_v, nmi_v,'-o',label='Infomap')\n",
    "plt.xlabel('$\\mu$')\n",
    "plt.legend()\n",
    "plt.ylabel('Normalized Mutual Information')\n",
    "plt.title('GN Benchmark')"
   ]
  },
  {
   "cell_type": "code",
   "execution_count": null,
   "id": "dabdf084-66c1-41cd-8807-4b7f79b12c12",
   "metadata": {},
   "outputs": [],
   "source": []
  }
 ],
 "metadata": {
  "kernelspec": {
   "display_name": "Python 3 (ipykernel)",
   "language": "python",
   "name": "python3"
  },
  "language_info": {
   "codemirror_mode": {
    "name": "ipython",
    "version": 3
   },
   "file_extension": ".py",
   "mimetype": "text/x-python",
   "name": "python",
   "nbconvert_exporter": "python",
   "pygments_lexer": "ipython3",
   "version": "3.9.1"
  }
 },
 "nbformat": 4,
 "nbformat_minor": 5
}
