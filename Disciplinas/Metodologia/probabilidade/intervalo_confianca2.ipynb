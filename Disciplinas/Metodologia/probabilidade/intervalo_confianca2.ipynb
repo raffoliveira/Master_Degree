{
 "metadata": {
  "language_info": {
   "codemirror_mode": {
    "name": "ipython",
    "version": 3
   },
   "file_extension": ".py",
   "mimetype": "text/x-python",
   "name": "python",
   "nbconvert_exporter": "python",
   "pygments_lexer": "ipython3",
   "version": "3.9.1"
  },
  "orig_nbformat": 4,
  "kernelspec": {
   "name": "python3",
   "display_name": "Python 3.9.1 64-bit ('base': conda)"
  },
  "interpreter": {
   "hash": "a2bdc51b6daca9b5437ed70bf107a48d48b009a7321e442720e098d18f052987"
  }
 },
 "nbformat": 4,
 "nbformat_minor": 2,
 "cells": [
  {
   "cell_type": "code",
   "execution_count": 6,
   "metadata": {},
   "outputs": [],
   "source": [
    "import math\n",
    "from mpmath import *"
   ]
  },
  {
   "cell_type": "code",
   "execution_count": 18,
   "metadata": {},
   "outputs": [],
   "source": [
    "def t_distribution_pdf(x, v):\n",
    "    \n",
    "    part1 = (math.gamma((v + 1) / 2)) / ((math.sqrt(v * math.pi)) * math.gamma(v / 2))\n",
    "    part2 =  math.pow((1 + (math.pow(x, 2) / v)), -((v + 1) / 2))\n",
    "\n",
    "    return part1 * part2\n",
    "\n",
    "def t_distribution_cdf(x, v):\n",
    "\n",
    "    part1 = x*math.gamma((v+1)/2)\n",
    "    part2 = ((hyp2f1((1/2),((v+1)/2),(3/2),-(math.pow(x,2)/v)))/(math.sqrt(math.pi*v)*math.gamma(v/2)))\n",
    "    \n",
    "    return (1/2) + part1 * part2 \n",
    "\n",
    "def t_distribution_cdf_p(x1, x2, v):\n",
    "\n",
    "    return t_distribution_cdf(x2,v) - t_distribution_cdf(x1,v)"
   ]
  },
  {
   "cell_type": "code",
   "execution_count": 13,
   "metadata": {},
   "outputs": [
    {
     "output_type": "execute_result",
     "data": {
      "text/plain": [
       "1.287345028963843e-06"
      ]
     },
     "metadata": {},
     "execution_count": 13
    }
   ],
   "source": [
    "t_distribution_pdf(40,3)"
   ]
  },
  {
   "cell_type": "code",
   "execution_count": 16,
   "metadata": {},
   "outputs": [
    {
     "output_type": "execute_result",
     "data": {
      "text/plain": [
       "mpf('0.9999828096596054')"
      ]
     },
     "metadata": {},
     "execution_count": 16
    }
   ],
   "source": [
    "t_distribution_cdf(40,3)"
   ]
  },
  {
   "cell_type": "code",
   "execution_count": 17,
   "metadata": {},
   "outputs": [
    {
     "output_type": "execute_result",
     "data": {
      "text/plain": [
       "mpf('1.8668400159072007e-11')"
      ]
     },
     "metadata": {},
     "execution_count": 17
    }
   ],
   "source": [
    "t_distribution_cdf_p(30,40,10)"
   ]
  },
  {
   "cell_type": "code",
   "execution_count": null,
   "metadata": {},
   "outputs": [],
   "source": []
  }
 ]
}