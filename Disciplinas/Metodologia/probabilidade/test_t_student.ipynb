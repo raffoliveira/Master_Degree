{
 "metadata": {
  "language_info": {
   "codemirror_mode": {
    "name": "ipython",
    "version": 3
   },
   "file_extension": ".py",
   "mimetype": "text/x-python",
   "name": "python",
   "nbconvert_exporter": "python",
   "pygments_lexer": "ipython3",
   "version": "3.9.1"
  },
  "orig_nbformat": 4,
  "kernelspec": {
   "name": "python3",
   "display_name": "Python 3.9.1 64-bit ('base': conda)"
  },
  "interpreter": {
   "hash": "a2bdc51b6daca9b5437ed70bf107a48d48b009a7321e442720e098d18f052987"
  }
 },
 "nbformat": 4,
 "nbformat_minor": 2,
 "cells": [
  {
   "cell_type": "code",
   "execution_count": 1,
   "metadata": {},
   "outputs": [],
   "source": [
    "import math\n",
    "import statistics\n",
    "import numpy as np\n",
    "from mpmath import *\n",
    "import scipy.stats"
   ]
  },
  {
   "cell_type": "code",
   "execution_count": 2,
   "metadata": {},
   "outputs": [],
   "source": [
    "#generate a data of t distribution\n",
    "data1 = np.random.standard_t(30, size=500)\n",
    "data2 = np.random.standard_t(30, size=500)"
   ]
  },
  {
   "cell_type": "code",
   "execution_count": 5,
   "metadata": {},
   "outputs": [
    {
     "output_type": "execute_result",
     "data": {
      "text/plain": [
       "array([-0.58250059,  0.94987412, -0.25839245, -1.10898915, -0.3958769 ,\n",
       "        0.70374315, -0.29051828,  0.67650536,  0.33226714,  1.94334333,\n",
       "        0.85453642,  0.72092436,  0.05786175,  1.03832037, -0.25292205,\n",
       "       -0.13973092, -0.94148775, -0.24653509,  0.53919146,  1.67879889])"
      ]
     },
     "metadata": {},
     "execution_count": 5
    }
   ],
   "source": [
    "data1[0:20]"
   ]
  },
  {
   "cell_type": "code",
   "execution_count": 6,
   "metadata": {},
   "outputs": [
    {
     "output_type": "execute_result",
     "data": {
      "text/plain": [
       "array([-2.11032372,  1.62280296,  0.5404513 ,  2.251847  ,  1.13782075,\n",
       "       -0.02349017, -0.64634319, -1.21346865,  0.32710777, -0.6306596 ,\n",
       "       -1.13261578,  0.49672444,  1.57974194,  1.65537467, -0.12568087,\n",
       "        1.40282693,  1.17469766,  0.74581886, -0.53473281,  1.51263934])"
      ]
     },
     "metadata": {},
     "execution_count": 6
    }
   ],
   "source": [
    "data2[0:20]"
   ]
  },
  {
   "cell_type": "code",
   "execution_count": 9,
   "metadata": {},
   "outputs": [],
   "source": [
    "def test_t_student(data1,data2):\n",
    "\n",
    "    mean_data1 = np.mean(data1)                          #mean of entire data1\n",
    "    mean_data2 = np.mean(data2)                          #mean of entire data2\n",
    "    std_deviation_data1 = statistics.stdev(data1)        #std_dev of entire data1\n",
    "    std_deviation_data2 = statistics.stdev(data2)        #std_dev of entire data2\n",
    "    degree_freedom = len(data1)+len(data2)-2\n",
    "\n",
    "    sed = math.sqrt((math.pow(std_deviation_data1,2)+math.pow(std_deviation_data2,2))/(len(data1)+len(data2)))\n",
    "    t_stats = (mean_data1-mean_data2)/sed\n",
    "    p_value = scipy.stats.t.ppf(q=1-.95/2,df=degree_freedom)\n",
    "\n",
    "    print(f\"The mean of population 1 is {mean_data1:.4f}\")\n",
    "    print(f\"The mean of population 2 is {mean_data2:.4f}\")  \n",
    "    print(f\"The std_dev of population 1 is {std_deviation_data1:.4f}\")          \n",
    "    print(f\"The std_dev of population 2 is {std_deviation_data2:.4f}\")   \n",
    "    print(f\"The T stats is {t_stats:.4f}\") \n",
    "    print(f\"The p value is {p_value:.4f}\")  \n",
    "    "
   ]
  },
  {
   "cell_type": "code",
   "execution_count": 10,
   "metadata": {},
   "outputs": [
    {
     "output_type": "stream",
     "name": "stdout",
     "text": [
      "The mean of population 1 is -0.0018\nThe mean of population 2 is 0.0420\nThe std_dev of population 1 is 1.0209\nThe std_dev of population 2 is 0.9795\nThe T stats is -0.9776\nThe p value is 0.0627\n"
     ]
    }
   ],
   "source": [
    "test_t_student(data1,data2)"
   ]
  }
 ]
}