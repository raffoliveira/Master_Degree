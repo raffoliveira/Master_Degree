{
 "metadata": {
  "language_info": {
   "codemirror_mode": {
    "name": "ipython",
    "version": 3
   },
   "file_extension": ".py",
   "mimetype": "text/x-python",
   "name": "python",
   "nbconvert_exporter": "python",
   "pygments_lexer": "ipython3",
   "version": "3.9.1"
  },
  "orig_nbformat": 4,
  "kernelspec": {
   "name": "python3",
   "display_name": "Python 3.9.1 64-bit ('base': conda)"
  },
  "interpreter": {
   "hash": "a2bdc51b6daca9b5437ed70bf107a48d48b009a7321e442720e098d18f052987"
  }
 },
 "nbformat": 4,
 "nbformat_minor": 2,
 "cells": [
  {
   "cell_type": "code",
   "execution_count": 1,
   "metadata": {},
   "outputs": [],
   "source": [
    "import math\n",
    "import statistics\n",
    "import numpy as np\n",
    "from mpmath import *\n",
    "import scipy.stats"
   ]
  },
  {
   "cell_type": "code",
   "execution_count": 45,
   "metadata": {},
   "outputs": [],
   "source": [
    "#generate a data of t distribution\n",
    "data = np.random.standard_t(30, size=500)"
   ]
  },
  {
   "cell_type": "code",
   "execution_count": 46,
   "metadata": {},
   "outputs": [
    {
     "output_type": "execute_result",
     "data": {
      "text/plain": [
       "array([ 1.01528443,  2.20932762,  0.74742598, -0.85351102, -0.36470304,\n",
       "       -0.54862732, -0.00840456,  0.84725948, -2.00425798, -1.81055783,\n",
       "       -0.19348038,  2.55029741,  0.23582115,  0.82309665,  1.02766243,\n",
       "        0.19146781,  0.99927305, -2.21139409,  1.11788215, -1.28562524])"
      ]
     },
     "metadata": {},
     "execution_count": 46
    }
   ],
   "source": [
    "data[0:20]"
   ]
  },
  {
   "cell_type": "code",
   "execution_count": 47,
   "metadata": {},
   "outputs": [],
   "source": [
    "def t_distribution_confidence_interval(data,alpha):\n",
    "\n",
    "    mean_data = np.mean(data)                          #mean of entire data\n",
    "    std_deviation_data = statistics.stdev(data)        #std_dev of entire data\n",
    "    sample = []                                        #creating a sample\n",
    "    sample_size = range(30)\n",
    "\n",
    "    print(f\"The size of population is {len(data)}\")\n",
    "\n",
    "    print(f\"The mean of population is {mean_data:.4f}\") \n",
    "\n",
    "\n",
    "    for i in sample_size:\n",
    "        sample.append(data[np.random.randint(len(data)-1)])\n",
    "\n",
    "    print(f\"The size of sample is {len(sample)}\")\n",
    "    \n",
    "    mean_sample = np.mean(sample)                        #mean of sample\n",
    "    std_deviation_sample = statistics.stdev(sample)      #std_dev of sample\n",
    "\n",
    "    print(f\"The mean of sample is {mean_sample:.4f}\")\n",
    "\n",
    "    #t value of 95%\n",
    "    \n",
    "    interval1 = mean_sample - (scipy.stats.t.ppf(q=1-alpha/2,df=len(sample)-1) * (std_deviation_sample/          math.sqrt(len(sample))))         #intervalo de -95%\n",
    "    interval2 = mean_sample + (scipy.stats.t.ppf(q=1-alpha/2,df=len(sample)-1) * (std_deviation_sample/          math.sqrt(len(sample))))         #intervalo de +95%\n",
    "\n",
    "    print(f\"The {int(alpha*100)}% confidence interval for the population is {interval1:.4f} to {interval2:.4f}\")"
   ]
  },
  {
   "cell_type": "code",
   "execution_count": 48,
   "metadata": {},
   "outputs": [
    {
     "output_type": "stream",
     "name": "stdout",
     "text": [
      "The size of population is 500\nThe mean of population is 0.0372\nThe size of sample is 30\nThe mean of sample is 0.1083\nThe 95% confidence interval for the population is 0.0986 to 0.1180\n"
     ]
    }
   ],
   "source": [
    "t_distribution_confidence_interval(data,.95)"
   ]
  }
 ]
}