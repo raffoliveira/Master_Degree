{
 "cells": [
  {
   "cell_type": "markdown",
   "id": "f673ee21",
   "metadata": {},
   "source": [
    "<div class=\"alert alert-block alert-info\">\n",
    "    <h1>Importing packages</h1>\n",
    "</div>"
   ]
  },
  {
   "cell_type": "code",
   "execution_count": 7,
   "id": "87b94627",
   "metadata": {},
   "outputs": [
    {
     "name": "stdout",
     "output_type": "stream",
     "text": [
      "Populating the interactive namespace from numpy and matplotlib\n"
     ]
    },
    {
     "ename": "ModuleNotFoundError",
     "evalue": "No module named 'imblearn'",
     "output_type": "error",
     "traceback": [
      "\u001b[0;31m---------------------------------------------------------------------------\u001b[0m",
      "\u001b[0;31mModuleNotFoundError\u001b[0m                       Traceback (most recent call last)",
      "\u001b[0;32m<ipython-input-7-f9ca1985bbc7>\u001b[0m in \u001b[0;36m<module>\u001b[0;34m\u001b[0m\n\u001b[1;32m     30\u001b[0m \u001b[0;32mfrom\u001b[0m \u001b[0msklearn\u001b[0m\u001b[0;34m.\u001b[0m\u001b[0mlinear_model\u001b[0m \u001b[0;32mimport\u001b[0m \u001b[0mLinearRegression\u001b[0m\u001b[0;34m\u001b[0m\u001b[0;34m\u001b[0m\u001b[0m\n\u001b[1;32m     31\u001b[0m \u001b[0;32mfrom\u001b[0m \u001b[0msklearn\u001b[0m \u001b[0;32mimport\u001b[0m \u001b[0mmetrics\u001b[0m\u001b[0;34m\u001b[0m\u001b[0;34m\u001b[0m\u001b[0m\n\u001b[0;32m---> 32\u001b[0;31m \u001b[0;32mfrom\u001b[0m \u001b[0mimblearn\u001b[0m\u001b[0;34m.\u001b[0m\u001b[0mover_sampling\u001b[0m \u001b[0;32mimport\u001b[0m \u001b[0mSMOTE\u001b[0m\u001b[0;34m\u001b[0m\u001b[0;34m\u001b[0m\u001b[0m\n\u001b[0m\u001b[1;32m     33\u001b[0m \u001b[0;32mfrom\u001b[0m \u001b[0mimblearn\u001b[0m\u001b[0;34m.\u001b[0m\u001b[0munder_sampling\u001b[0m \u001b[0;32mimport\u001b[0m \u001b[0mRandomUnderSampler\u001b[0m\u001b[0;34m\u001b[0m\u001b[0;34m\u001b[0m\u001b[0m\n\u001b[1;32m     34\u001b[0m \u001b[0;32mfrom\u001b[0m \u001b[0mimblearn\u001b[0m\u001b[0;34m.\u001b[0m\u001b[0mpipeline\u001b[0m \u001b[0;32mimport\u001b[0m \u001b[0mmake_pipeline\u001b[0m\u001b[0;34m,\u001b[0m \u001b[0mPipeline\u001b[0m\u001b[0;34m\u001b[0m\u001b[0;34m\u001b[0m\u001b[0m\n",
      "\u001b[0;31mModuleNotFoundError\u001b[0m: No module named 'imblearn'"
     ]
    }
   ],
   "source": [
    "%pylab inline\n",
    "import numpy as np\n",
    "import seaborn as sns\n",
    "import pandas as pd\n",
    "import matplotlib.pyplot as plt\n",
    "import glob\n",
    "import math\n",
    "import os\n",
    "import sys\n",
    "import pickle\n",
    "import pywt\n",
    "import scipy\n",
    "import xgboost as xgb\n",
    "import warnings\n",
    "import tensorflow as tf\n",
    "from scipy.io import loadmat, savemat\n",
    "from scipy import signal\n",
    "from scipy import stats\n",
    "from IPython.display import Image\n",
    "from sklearn import datasets\n",
    "from sklearn import metrics\n",
    "from sklearn.model_selection import train_test_split, KFold, cross_validate, cross_val_score, GridSearchCV, RandomizedSearchCV, StratifiedKFold, RepeatedStratifiedKFold\n",
    "from sklearn.pipeline import Pipeline\n",
    "from sklearn.preprocessing import StandardScaler, MinMaxScaler,LabelEncoder\n",
    "from sklearn.decomposition import PCA\n",
    "from sklearn.svm import SVC\n",
    "from sklearn.compose import ColumnTransformer\n",
    "from sklearn.metrics import classification_report, make_scorer, confusion_matrix, ConfusionMatrixDisplay, roc_curve, auc\n",
    "from sklearn.ensemble import GradientBoostingClassifier\n",
    "from sklearn.linear_model import LinearRegression\n",
    "from sklearn import metrics\n",
    "from imblearn.over_sampling import SMOTE\n",
    "from imblearn.under_sampling import RandomUnderSampler\n",
    "from imblearn.pipeline import make_pipeline, Pipeline\n",
    "from numpy import linalg as LA \n",
    "from collections import Counter, defaultdict\n",
    "from keras import Input\n",
    "from keras.models import Sequential, model_from_json, load_model\n",
    "from keras.layers import Dense, Dropout, BatchNormalization, Conv1D, Conv2D, Flatten, MaxPooling1D\n",
    "from keras.wrappers.scikit_learn import KerasClassifier\n",
    "from keras.utils import np_utils\n",
    "from keras.constraints import maxnorm\n",
    "from keras.metrics import categorical_accuracy\n",
    "from keras.optimizers import SGD, Adam\n",
    "from keras.callbacks import EarlyStopping\n",
    "from keras.utils.vis_utils import plot_model\n",
    "#from scikeras.wrappers import KerasClassifier"
   ]
  },
  {
   "cell_type": "markdown",
   "id": "8cd326b1",
   "metadata": {},
   "source": [
    "<div class=\"alert alert-block alert-info\">\n",
    "    <h1>Plot ROC Curves</h1>\n",
    "</div>"
   ]
  },
  {
   "cell_type": "code",
   "execution_count": 2,
   "id": "69848c9b",
   "metadata": {},
   "outputs": [],
   "source": [
    "# Compute ROC curve and ROC area for each class\n",
    "def plot_roc_auc_curve(y_test, y_score_decision, classes, classifier):\n",
    "    \n",
    "    fpr = dict()\n",
    "    tpr = dict()\n",
    "    roc_auc = dict()\n",
    "    \n",
    "    for i, cls in enumerate(classes):\n",
    "        fpr[cls], tpr[cls], _ = roc_curve(y_test[:, i], y_score_decision[:, i])\n",
    "        roc_auc[cls] = auc(fpr[cls], tpr[cls])\n",
    "\n",
    "    # Compute micro-average ROC curve and ROC area\n",
    "    # ravel return a flatten array of dataframe\n",
    "    fpr[\"micro\"], tpr[\"micro\"], _ = roc_curve(y_test.ravel(), y_score_decision.ravel())\n",
    "    roc_auc[\"micro\"] = auc(fpr[\"micro\"], tpr[\"micro\"])\n",
    "\n",
    "    # Plot ROC curve\n",
    "    plt.figure(figsize=(9,6))\n",
    "    plt.plot(fpr[\"micro\"], tpr[\"micro\"], label=f'Micro média (área = {roc_auc[\"micro\"]:.2f})', linewidth=4)\n",
    "    \n",
    "    for i in classes:\n",
    "        plt.plot(fpr[i], tpr[i], label=f'Classe {i} (área = {roc_auc[i]:.2f})')\n",
    "\n",
    "    plt.plot([0, 1], [0, 1], 'k--')\n",
    "    plt.xlim([0.0, 1.0])\n",
    "    plt.ylim([0.0, 1.05])\n",
    "    plt.xlabel('FPR')\n",
    "    plt.ylabel('TPR')\n",
    "    plt.title('Curva ROC '+ classifier)\n",
    "    plt.legend(loc=\"lower right\")\n",
    "    plt.savefig(os.path.abspath('./images/roc_auc_'+classifier+'.pdf'), dpi=300)\n",
    "    plt.show()"
   ]
  },
  {
   "cell_type": "code",
   "execution_count": 3,
   "id": "14cf8d83",
   "metadata": {},
   "outputs": [],
   "source": [
    "# Compute ROC curves for all classifiers\n",
    "def plot_all_roc_auc_curves(y_test, y_score_decision, classifiers):\n",
    "    \n",
    "    fpr = dict()\n",
    "    tpr = dict()\n",
    "    roc_auc = dict()\n",
    "    \n",
    "    # Compute micro-average ROC curve and ROC area\n",
    "    # ravel return a flatten array of dataframe    \n",
    "    for decision, classifiers_ in zip(y_score_decision,classifiers):\n",
    "        fpr[classifiers_], tpr[classifiers_], _ = roc_curve(y_test.ravel(), decision.ravel())\n",
    "        roc_auc[classifiers_] = auc(fpr[classifiers_], tpr[classifiers_])\n",
    "\n",
    "    # Plot ROC curve\n",
    "    plt.figure(figsize=(12,8))\n",
    "    \n",
    "    for classifiers_ in classifiers:\n",
    "        plt.plot(fpr[classifiers_], tpr[classifiers_], label=f'{classifiers_} (área = {roc_auc[classifiers_]:.2f})', linewidth=4)\n",
    "\n",
    "    plt.plot([0, 1], [0, 1], 'k--')\n",
    "    plt.xlim([0.0, 1.0])\n",
    "    plt.ylim([0.0, 1.05])\n",
    "    plt.title('Comparativos de Curvas ROC')\n",
    "    plt.xlabel('FPR')\n",
    "    plt.ylabel('TPR')\n",
    "    plt.legend(loc=\"lower right\")\n",
    "    plt.savefig(os.path.abspath('./images/roc_auc_all.pdf'), dpi=300)\n",
    "    plt.show()"
   ]
  },
  {
   "cell_type": "markdown",
   "id": "d48d80a3",
   "metadata": {},
   "source": [
    "<div class=\"alert alert-block alert-info\">\n",
    "    <h1>Reading files</h1>\n",
    "</div>"
   ]
  },
  {
   "cell_type": "code",
   "execution_count": 4,
   "id": "a0f034cf",
   "metadata": {},
   "outputs": [],
   "source": [
    "#path general and files of signals\n",
    "path_denoised = './dataset/MIT_denoised_without_normalization/'\n",
    "path = './dataset/MIT/'\n",
    "files_train = ['101.mat','106.mat','108.mat','109.mat','112.mat','114.mat','115.mat',\n",
    "              '116.mat','118.mat','119.mat','122.mat','124.mat','201.mat','203.mat',\n",
    "              '205.mat','207.mat','208.mat','209.mat','215.mat','220.mat','223.mat','230.mat']\n",
    "files_test = ['100.mat','103.mat','105.mat','111.mat','113.mat','117.mat','121.mat',\n",
    "              '123.mat','200.mat','202.mat','210.mat','212.mat','213.mat','214.mat',\n",
    "              '219.mat','221.mat','222.mat','228.mat','231.mat','232.mat','233.mat','234.mat']"
   ]
  },
  {
   "cell_type": "markdown",
   "id": "5dd8d5c4",
   "metadata": {},
   "source": [
    "<div class=\"alert alert-block alert-info\">\n",
    "    <h1>Segmentation</h1>\n",
    "</div>"
   ]
  },
  {
   "cell_type": "code",
   "execution_count": 24,
   "id": "1d87b198",
   "metadata": {},
   "outputs": [],
   "source": [
    "def load_signals(path, path_denoised, list_ecgs, size_beat):\n",
    "    dict_signals = defaultdict(list) #dict to load beats\n",
    "    \n",
    "    for file in list_ecgs:               \n",
    "     \n",
    "        struct = loadmat(path + file) #loading the original file\n",
    "        data = struct['individual'][0][0] #loading info of the signal\n",
    "        #ecg = data['signal_r'][:, 1] #reading lead II\n",
    "        beat_peaks = data['anno_anns'] #reading R-peak\n",
    "        beat_types = data['anno_type'] #reading type of beat\n",
    "        \n",
    "        struct_denoised = loadmat(path_denoised+file) #loading the denoised file\n",
    "        ecg = struct_denoised['data'][0] #loading info of the signal\n",
    "\n",
    "        for peak, beat_type in zip(beat_peaks, beat_types):\n",
    "            \n",
    "            beat_samples=[] #list to save samples of beat\n",
    "            \n",
    "            half_beat = int(size_beat/2) #half of size beat\n",
    "\n",
    "            #if the position is before the begining or \n",
    "            #if the position is after the ending\n",
    "            #do nothing\n",
    "            if (peak - half_beat) < 0 or (peak + half_beat) > len(ecg):\n",
    "                continue\n",
    "            \n",
    "            #if type of beat is different than this list, do nothing\n",
    "            if beat_type not in 'NLRejAaJSVEFP/fUQ':\n",
    "                continue\n",
    "\n",
    "            #taking the samples of beat window\n",
    "            beat_samples = ecg[int(peak - half_beat):int(peak + half_beat)]\n",
    "            \n",
    "            #taking the type of beat and saving in dict\n",
    "            if beat_type in 'NLRej':\n",
    "                dict_signals['N'].append(beat_samples)\n",
    "            elif beat_type in 'AaJS':\n",
    "                dict_signals['S'].append(beat_samples)\n",
    "            elif beat_type in 'VE':\n",
    "                dict_signals['V'].append(beat_samples)\n",
    "            elif beat_type in 'F':\n",
    "                dict_signals['F'].append(beat_samples)\n",
    "            else:\n",
    "                dict_signals['Q'].append(beat_samples) \n",
    "                \n",
    "    return dict_signals"
   ]
  },
  {
   "cell_type": "code",
   "execution_count": 27,
   "id": "485c92be",
   "metadata": {},
   "outputs": [],
   "source": [
    "#segmentation of train and test files using DWT without normalization\n",
    "dict_signals_train = load_signals(path,path_denoised,files_train,300)\n",
    "dict_signals_test =load_signals(path,path_denoised,files_test,300)"
   ]
  },
  {
   "cell_type": "code",
   "execution_count": 29,
   "id": "d46a1807",
   "metadata": {},
   "outputs": [
    {
     "name": "stdout",
     "output_type": "stream",
     "text": [
      "Number of class N: TRAIN -> 45844,\t TEST -> 44238,\t TOTAL -> 90082 (89.47%)\n",
      "Number of class S: TRAIN -> 944,\t TEST -> 1837,\t TOTAL -> 2781 (2.76%)\n",
      "Number of class V: TRAIN -> 3788,\t TEST -> 3220,\t TOTAL -> 7008 (6.96%)\n",
      "Number of class F: TRAIN -> 414,\t TEST -> 388,\t TOTAL -> 802 (0.80%)\n",
      "Number of class Q: TRAIN -> 8,\t\t TEST -> 7,\t TOTAL -> 15 (0.01%)\n",
      "\n",
      "\n",
      "TOTAL OF BEATS: 100688\n"
     ]
    }
   ],
   "source": [
    "#signals without normalization\n",
    "sum_beats = len(dict_signals_train['N'])+len(dict_signals_train['S'])+len(dict_signals_train['V'])+len(dict_signals_train['F'])+len(dict_signals_train['Q'])+len(dict_signals_test['N'])+len(dict_signals_test['S'])+len(dict_signals_test['V'])+len(dict_signals_test['F'])+len(dict_signals_test['Q'])\n",
    "\n",
    "print(f\"Number of class N: TRAIN -> {len(dict_signals_train['N'])},\\t TEST -> {len(dict_signals_test['N'])},\\t TOTAL -> {len(dict_signals_train['N'])+len(dict_signals_test['N'])} ({((len(dict_signals_train['N'])+len(dict_signals_test['N']))/sum_beats)*100:.2f}%)\")\n",
    "print(f\"Number of class S: TRAIN -> {len(dict_signals_train['S'])},\\t TEST -> {len(dict_signals_test['S'])},\\t TOTAL -> {len(dict_signals_train['S'])+len(dict_signals_test['S'])} ({((len(dict_signals_train['S'])+len(dict_signals_test['S']))/sum_beats)*100:.2f}%)\")\n",
    "print(f\"Number of class V: TRAIN -> {len(dict_signals_train['V'])},\\t TEST -> {len(dict_signals_test['V'])},\\t TOTAL -> {len(dict_signals_train['V'])+len(dict_signals_test['V'])} ({((len(dict_signals_train['V'])+len(dict_signals_test['V']))/sum_beats)*100:.2f}%)\")\n",
    "print(f\"Number of class F: TRAIN -> {len(dict_signals_train['F'])},\\t TEST -> {len(dict_signals_test['F'])},\\t TOTAL -> {len(dict_signals_train['F'])+len(dict_signals_test['F'])} ({((len(dict_signals_train['F'])+len(dict_signals_test['F']))/sum_beats)*100:.2f}%)\")\n",
    "print(f\"Number of class Q: TRAIN -> {len(dict_signals_train['Q'])},\\t\\t TEST -> {len(dict_signals_test['Q'])},\\t TOTAL -> {len(dict_signals_train['Q'])+len(dict_signals_test['Q'])} ({((len(dict_signals_train['Q'])+len(dict_signals_test['Q']))/sum_beats)*100:.2f}%)\")\n",
    "print('\\n')\n",
    "print(f'TOTAL OF BEATS: {sum_beats}')"
   ]
  },
  {
   "cell_type": "code",
   "execution_count": 44,
   "id": "97e20ac0",
   "metadata": {},
   "outputs": [],
   "source": [
    "#---training------\n",
    "list_labels = [] #list to append type beats\n",
    "list_beats = [] #list to append values beats\n",
    "label_type = 'type_beat'\n",
    "\n",
    "for class_, signal_ in dict_signals_train.items():\n",
    "    for beat in signal_:\n",
    "        list_labels.append(class_)\n",
    "        list_beats.append(beat)\n",
    "        \n",
    "df_train = pd.DataFrame(list_beats) #creating the dataframe\n",
    "df_train.loc[:,label_type] = list_labels #append the type beats \n",
    "\n",
    "#---test------\n",
    "list_labels = [] #list to append type beats\n",
    "list_beats = [] #list to append values beats\n",
    "\n",
    "for class_, signal_ in dict_signals_test.items():\n",
    "    for beat in signal_:\n",
    "        list_labels.append(class_)\n",
    "        list_beats.append(beat)\n",
    "        \n",
    "df_test = pd.DataFrame(list_beats) #creating the dataframe\n",
    "df_test.loc[:,label_type] = list_labels #append the type beats "
   ]
  },
  {
   "cell_type": "code",
   "execution_count": 45,
   "id": "2ebd4f68",
   "metadata": {},
   "outputs": [
    {
     "data": {
      "text/plain": [
       "(50998, 301)"
      ]
     },
     "execution_count": 45,
     "metadata": {},
     "output_type": "execute_result"
    }
   ],
   "source": [
    "df_train.shape"
   ]
  },
  {
   "cell_type": "code",
   "execution_count": 46,
   "id": "f85bcab1",
   "metadata": {},
   "outputs": [
    {
     "data": {
      "text/plain": [
       "(49690, 301)"
      ]
     },
     "execution_count": 46,
     "metadata": {},
     "output_type": "execute_result"
    }
   ],
   "source": [
    "df_test.shape"
   ]
  },
  {
   "cell_type": "code",
   "execution_count": 113,
   "id": "507521da",
   "metadata": {},
   "outputs": [],
   "source": [
    "X_train,y_train = df_train.drop(['type_beat'], axis=1), df_train[['type_beat']]\n",
    "X_test,y_test = df_test.drop(['type_beat'], axis=1), df_test[['type_beat']]"
   ]
  },
  {
   "cell_type": "code",
   "execution_count": 114,
   "id": "fd283882",
   "metadata": {},
   "outputs": [],
   "source": [
    "X = X_train.values.astype(float)\n",
    "y = y_train.values.squeeze()\n",
    "\n",
    "X_t = X_test.values.astype(float)\n",
    "y_t = y_test.values.squeeze()"
   ]
  },
  {
   "cell_type": "code",
   "execution_count": 122,
   "id": "cc507dcb",
   "metadata": {},
   "outputs": [
    {
     "data": {
      "text/plain": [
       "(50998, 300)"
      ]
     },
     "execution_count": 122,
     "metadata": {},
     "output_type": "execute_result"
    }
   ],
   "source": [
    "X.shape"
   ]
  },
  {
   "cell_type": "code",
   "execution_count": 123,
   "id": "f7464bf4",
   "metadata": {},
   "outputs": [
    {
     "data": {
      "text/plain": [
       "(49690, 300)"
      ]
     },
     "execution_count": 123,
     "metadata": {},
     "output_type": "execute_result"
    }
   ],
   "source": [
    "X_t.shape"
   ]
  },
  {
   "cell_type": "code",
   "execution_count": 144,
   "id": "37464062",
   "metadata": {},
   "outputs": [],
   "source": [
    "#(number_samples, length_samples,channel_sample)\n",
    "X_reshape = X.reshape(50998,300,1)\n",
    "X_t_reshape = X_t.reshape(49690,300,1)"
   ]
  },
  {
   "cell_type": "code",
   "execution_count": 155,
   "id": "367db149",
   "metadata": {},
   "outputs": [
    {
     "data": {
      "text/plain": [
       "(300, 1)"
      ]
     },
     "execution_count": 155,
     "metadata": {},
     "output_type": "execute_result"
    }
   ],
   "source": [
    "X_reshape.shape[1:3]"
   ]
  },
  {
   "cell_type": "code",
   "execution_count": 124,
   "id": "c55a6d32",
   "metadata": {},
   "outputs": [],
   "source": [
    "# encode class values as integers\n",
    "encoder = LabelEncoder()\n",
    "encoder.fit(y)\n",
    "encoded_y = encoder.transform(y)\n",
    "dummy_y = np_utils.to_categorical(encoded_y)\n",
    "\n",
    "# encode class values as integers\n",
    "encoder = LabelEncoder()\n",
    "encoder.fit(y_t)\n",
    "encoded_y_test = encoder.transform(y_t)\n",
    "dummy_y_test = np_utils.to_categorical(encoded_y_test)"
   ]
  },
  {
   "cell_type": "markdown",
   "id": "b966fc11",
   "metadata": {},
   "source": [
    "<div class=\"alert alert-block alert-info\">\n",
    "    <h1>Convolutional Neural Network</h1>\n",
    "</div>"
   ]
  },
  {
   "cell_type": "code",
   "execution_count": 160,
   "id": "827956ac",
   "metadata": {},
   "outputs": [],
   "source": [
    "def create_model(X):\n",
    "    model = Sequential()\n",
    "    model.add(Conv1D(X.shape[0],1, input_shape=X.shape[1:3]))\n",
    "    model.add(Conv1D(334,kernel_size=27, activation='relu',strides=1))\n",
    "    model.add(MaxPooling1D(167, strides=2))\n",
    "    model.add(Conv1D(154, kernel_size=14, activation='relu', strides=1))\n",
    "    model.add(MaxPooling1D(77, strides=2))\n",
    "    model.add(Conv1D(75, kernel_size=3, activation='relu', strides=1))   \n",
    "    model.add(MaxPooling1D(37, strides=2))\n",
    "    model.add(Conv1D(34, kernel_size=1, activation='relu', strides=1))    \n",
    "    model.add(MaxPooling1D(17, strides=2))\n",
    "    model.add(Flatten())\n",
    "    model.add(Dense(148, activation='relu'))\n",
    "    model.add(Dense(50, activation='relu'))\n",
    "    model.add(Dense(3, activation='softmax'))\n",
    "              \n",
    "    model.summary()\n",
    "    adam = Adam(learning_rate=1e-3)\n",
    "    model.compile(loss='categorical_crossentropy', \n",
    "                  optimizer=adam, \n",
    "                  metrics=['accuracy'])\n",
    "    \n",
    "    return model"
   ]
  },
  {
   "cell_type": "code",
   "execution_count": 161,
   "id": "5ee2097f",
   "metadata": {},
   "outputs": [],
   "source": [
    "#stop training when loss has stopped improving after 10 epochs\n",
    "es = EarlyStopping(monitor='loss', \n",
    "                   mode='min',\n",
    "                   patience=10, \n",
    "                   restore_best_weights=True)"
   ]
  },
  {
   "cell_type": "code",
   "execution_count": null,
   "id": "032cf083",
   "metadata": {},
   "outputs": [],
   "source": [
    "model = create_model(X_reshape)"
   ]
  },
  {
   "cell_type": "code",
   "execution_count": null,
   "id": "b135728a",
   "metadata": {},
   "outputs": [],
   "source": [
    "history = model.fit(X, \n",
    "                    dummy_y, \n",
    "                    epochs=30, \n",
    "                    batch_size=34, \n",
    "                    shuffle=True,\n",
    "                    validation_data=(X_t, dummy_y_test),\n",
    "                    verbose=1)"
   ]
  },
  {
   "cell_type": "code",
   "execution_count": 168,
   "id": "299633bf",
   "metadata": {},
   "outputs": [],
   "source": [
    "scv =  StratifiedKFold(n_splits=10, shuffle=True, random_state=1)\n",
    "scores_ = {'accuracy' : metrics.make_scorer(metrics.accuracy_score),\n",
    "           'recall'   : metrics.make_scorer(metrics.recall_score, average='weighted', zero_division=0),\n",
    "           'precision': metrics.make_scorer(metrics.precision_score, average='weighted', zero_division=0),\n",
    "           'f1'       : metrics.make_scorer(metrics.fbeta_score, beta = 2, average='weighted' )}\n",
    "\n",
    "svm_result = cross_validate(svm_scaler, \n",
    "                            data, \n",
    "                            target, \n",
    "                            scoring=scores_, \n",
    "                            cv=scv, \n",
    "                            n_jobs=-1,\n",
    "                            return_train_score=True)"
   ]
  },
  {
   "cell_type": "markdown",
   "id": "bac0d1d8",
   "metadata": {},
   "source": [
    "<div class=\"alert alert-block alert-info\">\n",
    "    <h1>Neural Network</h1>\n",
    "</div>"
   ]
  },
  {
   "cell_type": "code",
   "execution_count": 4,
   "id": "1a05d8cd",
   "metadata": {},
   "outputs": [],
   "source": [
    "#using beats with dwt sym9 function denoise\n",
    "df_train = pd.read_csv(os.path.abspath('./dataset/MIT_feat_extracted/non_normalization/df_beats_train_dwt_db14.csv'),header=0, index_col=[0])\n",
    "df_test = pd.read_csv(os.path.abspath('./dataset/MIT_feat_extracted/non_normalization/df_beats_test_dwt_db14.csv'),header=0, index_col=[0])"
   ]
  },
  {
   "cell_type": "code",
   "execution_count": 5,
   "id": "849e6e2f",
   "metadata": {},
   "outputs": [],
   "source": [
    "#removing classes F and Q\n",
    "df_train = df_train.query('type_beat != [\"F\",\"Q\"]')\n",
    "df_test = df_test.query('type_beat != [\"F\",\"Q\"]')"
   ]
  },
  {
   "cell_type": "code",
   "execution_count": 6,
   "id": "6bf1bfd6",
   "metadata": {},
   "outputs": [],
   "source": [
    "#splitting the train dataset\n",
    "X_train,y_train = df_train.drop(['type_beat'],axis=1), df_train[['type_beat']]"
   ]
  },
  {
   "cell_type": "code",
   "execution_count": 7,
   "id": "3d9f63e1",
   "metadata": {},
   "outputs": [],
   "source": [
    "#splitting the test dataset\n",
    "X_test,y_test = df_test.drop(['type_beat'],axis=1), df_test[['type_beat']]"
   ]
  },
  {
   "cell_type": "code",
   "execution_count": 8,
   "id": "4bed65cb",
   "metadata": {},
   "outputs": [
    {
     "data": {
      "text/plain": [
       "Counter({'N': 45844, 'S': 944, 'V': 3788})"
      ]
     },
     "execution_count": 8,
     "metadata": {},
     "output_type": "execute_result"
    }
   ],
   "source": [
    "#counting the classes \n",
    "Counter(df_train['type_beat'])"
   ]
  },
  {
   "cell_type": "code",
   "execution_count": 9,
   "id": "7ceec6a8",
   "metadata": {},
   "outputs": [
    {
     "data": {
      "text/plain": [
       "Counter({'N': 44238, 'S': 1837, 'V': 3220})"
      ]
     },
     "execution_count": 9,
     "metadata": {},
     "output_type": "execute_result"
    }
   ],
   "source": [
    "#counting the classes \n",
    "Counter(df_test['type_beat'])"
   ]
  },
  {
   "cell_type": "code",
   "execution_count": 10,
   "id": "8513165e",
   "metadata": {},
   "outputs": [],
   "source": [
    "#applying SMOTE in training set of dwt denoise\n",
    "\n",
    "sm = SMOTE()\n",
    "X_train_smote, y_train_smote = sm.fit_resample(X_train,y_train)"
   ]
  },
  {
   "cell_type": "code",
   "execution_count": 11,
   "id": "ae95fa2c",
   "metadata": {},
   "outputs": [
    {
     "data": {
      "text/plain": [
       "Counter({'N': 45844, 'S': 45844, 'V': 45844})"
      ]
     },
     "execution_count": 11,
     "metadata": {},
     "output_type": "execute_result"
    }
   ],
   "source": [
    "Counter(y_train_smote['type_beat'])"
   ]
  },
  {
   "cell_type": "code",
   "execution_count": 12,
   "id": "4f5f1d78",
   "metadata": {},
   "outputs": [],
   "source": [
    "#reshape the dataframes of data and target\n",
    "X = X_train_smote.values.astype(float)\n",
    "y = y_train_smote.values.squeeze()"
   ]
  },
  {
   "cell_type": "code",
   "execution_count": 13,
   "id": "41ef84be",
   "metadata": {},
   "outputs": [],
   "source": [
    "#reshape the dataframes of data and target\n",
    "X_t = X_test.values.astype(float)\n",
    "y_t = y_test.values.squeeze()"
   ]
  },
  {
   "cell_type": "code",
   "execution_count": 14,
   "id": "970630bc",
   "metadata": {},
   "outputs": [],
   "source": [
    "# encode class values as integers\n",
    "encoder = LabelEncoder()\n",
    "encoder.fit(y)\n",
    "encoded_y = encoder.transform(y)\n",
    "dummy_y = np_utils.to_categorical(encoded_y)"
   ]
  },
  {
   "cell_type": "code",
   "execution_count": 15,
   "id": "d9edfdc8",
   "metadata": {},
   "outputs": [],
   "source": [
    "# encode class values as integers\n",
    "encoder = LabelEncoder()\n",
    "encoder.fit(y_t)\n",
    "encoded_y_t = encoder.transform(y_t)\n",
    "dummy_y_t = np_utils.to_categorical(encoded_y_t)"
   ]
  },
  {
   "cell_type": "code",
   "execution_count": 16,
   "id": "7a8900da",
   "metadata": {},
   "outputs": [
    {
     "data": {
      "text/plain": [
       "(137532, 56)"
      ]
     },
     "execution_count": 16,
     "metadata": {},
     "output_type": "execute_result"
    }
   ],
   "source": [
    "X.shape"
   ]
  },
  {
   "cell_type": "code",
   "execution_count": 17,
   "id": "24bd4ceb",
   "metadata": {},
   "outputs": [],
   "source": [
    "# define baseline model\n",
    "def model_1(X):\n",
    "    \n",
    "    model = Sequential()\n",
    "    model.add(Dense(10, input_shape=(X.shape[1],), activation='relu'))\n",
    "    model.add(Dense(3, activation='softmax'))\n",
    "    model.summary()\n",
    "    model.compile(loss='categorical_crossentropy', optimizer='adam', metrics=['accuracy'])\n",
    "    \n",
    "    return model"
   ]
  },
  {
   "cell_type": "code",
   "execution_count": 18,
   "id": "9a8f368a",
   "metadata": {},
   "outputs": [],
   "source": [
    "#stop training when loss has stopped improving after 10 epochs\n",
    "es = EarlyStopping(monitor='loss', \n",
    "                   mode='min',\n",
    "                   patience=10, \n",
    "                   restore_best_weights=True)"
   ]
  },
  {
   "cell_type": "code",
   "execution_count": 19,
   "id": "e397b902",
   "metadata": {
    "scrolled": true
   },
   "outputs": [
    {
     "name": "stdout",
     "output_type": "stream",
     "text": [
      "Model: \"sequential\"\n",
      "_________________________________________________________________\n",
      "Layer (type)                 Output Shape              Param #   \n",
      "=================================================================\n",
      "dense (Dense)                (None, 10)                570       \n",
      "_________________________________________________________________\n",
      "dense_1 (Dense)              (None, 3)                 33        \n",
      "=================================================================\n",
      "Total params: 603\n",
      "Trainable params: 603\n",
      "Non-trainable params: 0\n",
      "_________________________________________________________________\n"
     ]
    }
   ],
   "source": [
    "model = model_1(X)"
   ]
  },
  {
   "cell_type": "code",
   "execution_count": 20,
   "id": "7217ebc5",
   "metadata": {},
   "outputs": [
    {
     "name": "stdout",
     "output_type": "stream",
     "text": [
      "Epoch 1/8000000\n"
     ]
    },
    {
     "ename": "InternalError",
     "evalue": " Blas GEMM launch failed : a.shape=(10, 56), b.shape=(56, 10), m=10, n=10, k=56\n\t [[node sequential/dense/MatMul (defined at <ipython-input-20-77b2d2939b7d>:1) ]] [Op:__inference_train_function_580]\n\nFunction call stack:\ntrain_function\n",
     "output_type": "error",
     "traceback": [
      "\u001b[0;31m---------------------------------------------------------------------------\u001b[0m",
      "\u001b[0;31mInternalError\u001b[0m                             Traceback (most recent call last)",
      "\u001b[0;32m<ipython-input-20-77b2d2939b7d>\u001b[0m in \u001b[0;36m<module>\u001b[0;34m\u001b[0m\n\u001b[0;32m----> 1\u001b[0;31m history = model.fit(X, \n\u001b[0m\u001b[1;32m      2\u001b[0m                     \u001b[0mdummy_y\u001b[0m\u001b[0;34m,\u001b[0m\u001b[0;34m\u001b[0m\u001b[0;34m\u001b[0m\u001b[0m\n\u001b[1;32m      3\u001b[0m                     \u001b[0mepochs\u001b[0m\u001b[0;34m=\u001b[0m\u001b[0;36m8000000\u001b[0m\u001b[0;34m,\u001b[0m\u001b[0;34m\u001b[0m\u001b[0;34m\u001b[0m\u001b[0m\n\u001b[1;32m      4\u001b[0m                     \u001b[0mcallbacks\u001b[0m\u001b[0;34m=\u001b[0m\u001b[0;34m[\u001b[0m\u001b[0mes\u001b[0m\u001b[0;34m]\u001b[0m\u001b[0;34m,\u001b[0m\u001b[0;34m\u001b[0m\u001b[0;34m\u001b[0m\u001b[0m\n\u001b[1;32m      5\u001b[0m                     \u001b[0mbatch_size\u001b[0m\u001b[0;34m=\u001b[0m\u001b[0;36m10\u001b[0m\u001b[0;34m,\u001b[0m\u001b[0;34m\u001b[0m\u001b[0;34m\u001b[0m\u001b[0m\n",
      "\u001b[0;32m/media/share/comum/env/cisco/lib/python3.8/site-packages/tensorflow/python/keras/engine/training.py\u001b[0m in \u001b[0;36mfit\u001b[0;34m(self, x, y, batch_size, epochs, verbose, callbacks, validation_split, validation_data, shuffle, class_weight, sample_weight, initial_epoch, steps_per_epoch, validation_steps, validation_batch_size, validation_freq, max_queue_size, workers, use_multiprocessing)\u001b[0m\n\u001b[1;32m   1098\u001b[0m                 _r=1):\n\u001b[1;32m   1099\u001b[0m               \u001b[0mcallbacks\u001b[0m\u001b[0;34m.\u001b[0m\u001b[0mon_train_batch_begin\u001b[0m\u001b[0;34m(\u001b[0m\u001b[0mstep\u001b[0m\u001b[0;34m)\u001b[0m\u001b[0;34m\u001b[0m\u001b[0;34m\u001b[0m\u001b[0m\n\u001b[0;32m-> 1100\u001b[0;31m               \u001b[0mtmp_logs\u001b[0m \u001b[0;34m=\u001b[0m \u001b[0mself\u001b[0m\u001b[0;34m.\u001b[0m\u001b[0mtrain_function\u001b[0m\u001b[0;34m(\u001b[0m\u001b[0miterator\u001b[0m\u001b[0;34m)\u001b[0m\u001b[0;34m\u001b[0m\u001b[0;34m\u001b[0m\u001b[0m\n\u001b[0m\u001b[1;32m   1101\u001b[0m               \u001b[0;32mif\u001b[0m \u001b[0mdata_handler\u001b[0m\u001b[0;34m.\u001b[0m\u001b[0mshould_sync\u001b[0m\u001b[0;34m:\u001b[0m\u001b[0;34m\u001b[0m\u001b[0;34m\u001b[0m\u001b[0m\n\u001b[1;32m   1102\u001b[0m                 \u001b[0mcontext\u001b[0m\u001b[0;34m.\u001b[0m\u001b[0masync_wait\u001b[0m\u001b[0;34m(\u001b[0m\u001b[0;34m)\u001b[0m\u001b[0;34m\u001b[0m\u001b[0;34m\u001b[0m\u001b[0m\n",
      "\u001b[0;32m/media/share/comum/env/cisco/lib/python3.8/site-packages/tensorflow/python/eager/def_function.py\u001b[0m in \u001b[0;36m__call__\u001b[0;34m(self, *args, **kwds)\u001b[0m\n\u001b[1;32m    826\u001b[0m     \u001b[0mtracing_count\u001b[0m \u001b[0;34m=\u001b[0m \u001b[0mself\u001b[0m\u001b[0;34m.\u001b[0m\u001b[0mexperimental_get_tracing_count\u001b[0m\u001b[0;34m(\u001b[0m\u001b[0;34m)\u001b[0m\u001b[0;34m\u001b[0m\u001b[0;34m\u001b[0m\u001b[0m\n\u001b[1;32m    827\u001b[0m     \u001b[0;32mwith\u001b[0m \u001b[0mtrace\u001b[0m\u001b[0;34m.\u001b[0m\u001b[0mTrace\u001b[0m\u001b[0;34m(\u001b[0m\u001b[0mself\u001b[0m\u001b[0;34m.\u001b[0m\u001b[0m_name\u001b[0m\u001b[0;34m)\u001b[0m \u001b[0;32mas\u001b[0m \u001b[0mtm\u001b[0m\u001b[0;34m:\u001b[0m\u001b[0;34m\u001b[0m\u001b[0;34m\u001b[0m\u001b[0m\n\u001b[0;32m--> 828\u001b[0;31m       \u001b[0mresult\u001b[0m \u001b[0;34m=\u001b[0m \u001b[0mself\u001b[0m\u001b[0;34m.\u001b[0m\u001b[0m_call\u001b[0m\u001b[0;34m(\u001b[0m\u001b[0;34m*\u001b[0m\u001b[0margs\u001b[0m\u001b[0;34m,\u001b[0m \u001b[0;34m**\u001b[0m\u001b[0mkwds\u001b[0m\u001b[0;34m)\u001b[0m\u001b[0;34m\u001b[0m\u001b[0;34m\u001b[0m\u001b[0m\n\u001b[0m\u001b[1;32m    829\u001b[0m       \u001b[0mcompiler\u001b[0m \u001b[0;34m=\u001b[0m \u001b[0;34m\"xla\"\u001b[0m \u001b[0;32mif\u001b[0m \u001b[0mself\u001b[0m\u001b[0;34m.\u001b[0m\u001b[0m_experimental_compile\u001b[0m \u001b[0;32melse\u001b[0m \u001b[0;34m\"nonXla\"\u001b[0m\u001b[0;34m\u001b[0m\u001b[0;34m\u001b[0m\u001b[0m\n\u001b[1;32m    830\u001b[0m       \u001b[0mnew_tracing_count\u001b[0m \u001b[0;34m=\u001b[0m \u001b[0mself\u001b[0m\u001b[0;34m.\u001b[0m\u001b[0mexperimental_get_tracing_count\u001b[0m\u001b[0;34m(\u001b[0m\u001b[0;34m)\u001b[0m\u001b[0;34m\u001b[0m\u001b[0;34m\u001b[0m\u001b[0m\n",
      "\u001b[0;32m/media/share/comum/env/cisco/lib/python3.8/site-packages/tensorflow/python/eager/def_function.py\u001b[0m in \u001b[0;36m_call\u001b[0;34m(self, *args, **kwds)\u001b[0m\n\u001b[1;32m    886\u001b[0m         \u001b[0;31m# Lifting succeeded, so variables are initialized and we can run the\u001b[0m\u001b[0;34m\u001b[0m\u001b[0;34m\u001b[0m\u001b[0;34m\u001b[0m\u001b[0m\n\u001b[1;32m    887\u001b[0m         \u001b[0;31m# stateless function.\u001b[0m\u001b[0;34m\u001b[0m\u001b[0;34m\u001b[0m\u001b[0;34m\u001b[0m\u001b[0m\n\u001b[0;32m--> 888\u001b[0;31m         \u001b[0;32mreturn\u001b[0m \u001b[0mself\u001b[0m\u001b[0;34m.\u001b[0m\u001b[0m_stateless_fn\u001b[0m\u001b[0;34m(\u001b[0m\u001b[0;34m*\u001b[0m\u001b[0margs\u001b[0m\u001b[0;34m,\u001b[0m \u001b[0;34m**\u001b[0m\u001b[0mkwds\u001b[0m\u001b[0;34m)\u001b[0m\u001b[0;34m\u001b[0m\u001b[0;34m\u001b[0m\u001b[0m\n\u001b[0m\u001b[1;32m    889\u001b[0m     \u001b[0;32melse\u001b[0m\u001b[0;34m:\u001b[0m\u001b[0;34m\u001b[0m\u001b[0;34m\u001b[0m\u001b[0m\n\u001b[1;32m    890\u001b[0m       \u001b[0m_\u001b[0m\u001b[0;34m,\u001b[0m \u001b[0m_\u001b[0m\u001b[0;34m,\u001b[0m \u001b[0m_\u001b[0m\u001b[0;34m,\u001b[0m \u001b[0mfiltered_flat_args\u001b[0m \u001b[0;34m=\u001b[0m\u001b[0;31m \u001b[0m\u001b[0;31m\\\u001b[0m\u001b[0;34m\u001b[0m\u001b[0;34m\u001b[0m\u001b[0m\n",
      "\u001b[0;32m/media/share/comum/env/cisco/lib/python3.8/site-packages/tensorflow/python/eager/function.py\u001b[0m in \u001b[0;36m__call__\u001b[0;34m(self, *args, **kwargs)\u001b[0m\n\u001b[1;32m   2940\u001b[0m       (graph_function,\n\u001b[1;32m   2941\u001b[0m        filtered_flat_args) = self._maybe_define_function(args, kwargs)\n\u001b[0;32m-> 2942\u001b[0;31m     return graph_function._call_flat(\n\u001b[0m\u001b[1;32m   2943\u001b[0m         filtered_flat_args, captured_inputs=graph_function.captured_inputs)  # pylint: disable=protected-access\n\u001b[1;32m   2944\u001b[0m \u001b[0;34m\u001b[0m\u001b[0m\n",
      "\u001b[0;32m/media/share/comum/env/cisco/lib/python3.8/site-packages/tensorflow/python/eager/function.py\u001b[0m in \u001b[0;36m_call_flat\u001b[0;34m(self, args, captured_inputs, cancellation_manager)\u001b[0m\n\u001b[1;32m   1916\u001b[0m         and executing_eagerly):\n\u001b[1;32m   1917\u001b[0m       \u001b[0;31m# No tape is watching; skip to running the function.\u001b[0m\u001b[0;34m\u001b[0m\u001b[0;34m\u001b[0m\u001b[0;34m\u001b[0m\u001b[0m\n\u001b[0;32m-> 1918\u001b[0;31m       return self._build_call_outputs(self._inference_function.call(\n\u001b[0m\u001b[1;32m   1919\u001b[0m           ctx, args, cancellation_manager=cancellation_manager))\n\u001b[1;32m   1920\u001b[0m     forward_backward = self._select_forward_and_backward_functions(\n",
      "\u001b[0;32m/media/share/comum/env/cisco/lib/python3.8/site-packages/tensorflow/python/eager/function.py\u001b[0m in \u001b[0;36mcall\u001b[0;34m(self, ctx, args, cancellation_manager)\u001b[0m\n\u001b[1;32m    553\u001b[0m       \u001b[0;32mwith\u001b[0m \u001b[0m_InterpolateFunctionError\u001b[0m\u001b[0;34m(\u001b[0m\u001b[0mself\u001b[0m\u001b[0;34m)\u001b[0m\u001b[0;34m:\u001b[0m\u001b[0;34m\u001b[0m\u001b[0;34m\u001b[0m\u001b[0m\n\u001b[1;32m    554\u001b[0m         \u001b[0;32mif\u001b[0m \u001b[0mcancellation_manager\u001b[0m \u001b[0;32mis\u001b[0m \u001b[0;32mNone\u001b[0m\u001b[0;34m:\u001b[0m\u001b[0;34m\u001b[0m\u001b[0;34m\u001b[0m\u001b[0m\n\u001b[0;32m--> 555\u001b[0;31m           outputs = execute.execute(\n\u001b[0m\u001b[1;32m    556\u001b[0m               \u001b[0mstr\u001b[0m\u001b[0;34m(\u001b[0m\u001b[0mself\u001b[0m\u001b[0;34m.\u001b[0m\u001b[0msignature\u001b[0m\u001b[0;34m.\u001b[0m\u001b[0mname\u001b[0m\u001b[0;34m)\u001b[0m\u001b[0;34m,\u001b[0m\u001b[0;34m\u001b[0m\u001b[0;34m\u001b[0m\u001b[0m\n\u001b[1;32m    557\u001b[0m               \u001b[0mnum_outputs\u001b[0m\u001b[0;34m=\u001b[0m\u001b[0mself\u001b[0m\u001b[0;34m.\u001b[0m\u001b[0m_num_outputs\u001b[0m\u001b[0;34m,\u001b[0m\u001b[0;34m\u001b[0m\u001b[0;34m\u001b[0m\u001b[0m\n",
      "\u001b[0;32m/media/share/comum/env/cisco/lib/python3.8/site-packages/tensorflow/python/eager/execute.py\u001b[0m in \u001b[0;36mquick_execute\u001b[0;34m(op_name, num_outputs, inputs, attrs, ctx, name)\u001b[0m\n\u001b[1;32m     57\u001b[0m   \u001b[0;32mtry\u001b[0m\u001b[0;34m:\u001b[0m\u001b[0;34m\u001b[0m\u001b[0;34m\u001b[0m\u001b[0m\n\u001b[1;32m     58\u001b[0m     \u001b[0mctx\u001b[0m\u001b[0;34m.\u001b[0m\u001b[0mensure_initialized\u001b[0m\u001b[0;34m(\u001b[0m\u001b[0;34m)\u001b[0m\u001b[0;34m\u001b[0m\u001b[0;34m\u001b[0m\u001b[0m\n\u001b[0;32m---> 59\u001b[0;31m     tensors = pywrap_tfe.TFE_Py_Execute(ctx._handle, device_name, op_name,\n\u001b[0m\u001b[1;32m     60\u001b[0m                                         inputs, attrs, num_outputs)\n\u001b[1;32m     61\u001b[0m   \u001b[0;32mexcept\u001b[0m \u001b[0mcore\u001b[0m\u001b[0;34m.\u001b[0m\u001b[0m_NotOkStatusException\u001b[0m \u001b[0;32mas\u001b[0m \u001b[0me\u001b[0m\u001b[0;34m:\u001b[0m\u001b[0;34m\u001b[0m\u001b[0;34m\u001b[0m\u001b[0m\n",
      "\u001b[0;31mInternalError\u001b[0m:  Blas GEMM launch failed : a.shape=(10, 56), b.shape=(56, 10), m=10, n=10, k=56\n\t [[node sequential/dense/MatMul (defined at <ipython-input-20-77b2d2939b7d>:1) ]] [Op:__inference_train_function_580]\n\nFunction call stack:\ntrain_function\n"
     ]
    }
   ],
   "source": [
    "history = model.fit(X, \n",
    "                    dummy_y, \n",
    "                    epochs=8000000, \n",
    "                    callbacks=[es], \n",
    "                    batch_size=10, \n",
    "                    shuffle=True,\n",
    "                    validation_split=0.2,\n",
    "                    verbose=1)"
   ]
  },
  {
   "cell_type": "code",
   "execution_count": null,
   "id": "f9032443",
   "metadata": {},
   "outputs": [],
   "source": [
    "loss, accuracy = model.evaluate(X, dummy_y)\n",
    "print(f'Accuracy: {(accuracy*100):.2f} ({loss:.2f})')"
   ]
  },
  {
   "cell_type": "markdown",
   "id": "932ee830",
   "metadata": {},
   "source": [
    "<div class=\"alert alert-block alert-info\">\n",
    "    <h1>Gradient Boosting</h1>\n",
    "</div>"
   ]
  },
  {
   "cell_type": "code",
   "execution_count": null,
   "id": "c7a43eff",
   "metadata": {},
   "outputs": [],
   "source": []
  },
  {
   "cell_type": "code",
   "execution_count": null,
   "id": "a0cea0e9",
   "metadata": {},
   "outputs": [],
   "source": []
  },
  {
   "cell_type": "code",
   "execution_count": 36,
   "id": "c984f599",
   "metadata": {},
   "outputs": [],
   "source": [
    "dec_funct_grd = grd.decision_function(X_test)"
   ]
  },
  {
   "cell_type": "code",
   "execution_count": 39,
   "id": "8c929b1e",
   "metadata": {},
   "outputs": [
    {
     "data": {
      "image/png": "[encoded data removed]",
      "text/plain": [
       "<Figure size 648x432 with 1 Axes>"
      ]
     },
     "metadata": {
      "needs_background": "light"
     },
     "output_type": "display_data"
    }
   ],
   "source": [
    "plot_roc_auc_curve(dummy_test_y, dec_funct_grd, list(grd.classes_), 'gradient_Boosting')"
   ]
  }
 ],
 "metadata": {
  "kernelspec": {
   "display_name": "Python 3",
   "language": "python",
   "name": "python3"
  },
  "language_info": {
   "codemirror_mode": {
    "name": "ipython",
    "version": 3
   },
   "file_extension": ".py",
   "mimetype": "text/x-python",
   "name": "python",
   "nbconvert_exporter": "python",
   "pygments_lexer": "ipython3",
   "version": "3.8.5"
  }
 },
 "nbformat": 4,
 "nbformat_minor": 5
}
