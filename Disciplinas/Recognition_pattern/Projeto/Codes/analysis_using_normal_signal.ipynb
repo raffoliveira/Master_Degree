{
 "cells": [
  {
   "cell_type": "markdown",
   "id": "685fee03",
   "metadata": {},
   "source": [
    "<div class=\"alert alert-block alert-info\">\n",
    "    <h1>Importing packages</h1>\n",
    "</div>"
   ]
  },
  {
   "cell_type": "code",
   "execution_count": 2,
   "id": "ea2bb8c2",
   "metadata": {},
   "outputs": [
    {
     "name": "stdout",
     "output_type": "stream",
     "text": [
      "Populating the interactive namespace from numpy and matplotlib\n"
     ]
    }
   ],
   "source": [
    "%pylab inline\n",
    "import numpy as np\n",
    "import seaborn as sns\n",
    "import pandas as pd\n",
    "import matplotlib.pyplot as plt\n",
    "import glob\n",
    "import math\n",
    "import os\n",
    "import sys\n",
    "import pickle\n",
    "import pywt\n",
    "import scipy\n",
    "import xgboost as xgb\n",
    "import warnings\n",
    "import tensorflow as tf\n",
    "from scipy.io import loadmat, savemat\n",
    "from scipy import signal\n",
    "from scipy import stats\n",
    "from IPython.display import Image\n",
    "from sklearn import datasets\n",
    "from sklearn import metrics\n",
    "from sklearn.model_selection import train_test_split, KFold, cross_validate, cross_val_score, GridSearchCV, RandomizedSearchCV, StratifiedKFold, RepeatedStratifiedKFold\n",
    "from sklearn.pipeline import Pipeline\n",
    "from sklearn.preprocessing import StandardScaler, MinMaxScaler,LabelEncoder\n",
    "from sklearn.decomposition import PCA\n",
    "from sklearn.svm import SVC\n",
    "from sklearn.compose import ColumnTransformer\n",
    "from sklearn.metrics import classification_report, make_scorer, confusion_matrix, ConfusionMatrixDisplay, roc_curve, auc\n",
    "from sklearn.ensemble import GradientBoostingClassifier\n",
    "from sklearn.linear_model import LinearRegression\n",
    "from sklearn import metrics\n",
    "#from imblearn.over_sampling import SMOTE\n",
    "#from imblearn.under_sampling import RandomUnderSampler\n",
    "#from imblearn.pipeline import make_pipeline, Pipeline\n",
    "from numpy import linalg as LA \n",
    "from collections import Counter, defaultdict\n",
    "from keras.models import Sequential, model_from_json, load_model\n",
    "from keras.layers import Dense, Dropout, BatchNormalization, Flatten\n",
    "from keras.wrappers.scikit_learn import KerasClassifier\n",
    "from keras.utils import np_utils\n",
    "from keras.constraints import maxnorm\n",
    "from keras.metrics import categorical_accuracy\n",
    "from keras.optimizers import SGD, Adam\n",
    "from keras.callbacks import EarlyStopping\n",
    "from keras.utils.vis_utils import plot_model\n",
    "#from scikeras.wrappers import KerasClassifier"
   ]
  },
  {
   "cell_type": "markdown",
   "id": "7391ce82",
   "metadata": {},
   "source": [
    "<div class=\"alert alert-block alert-info\">\n",
    "    <h1>Plot ROC Curves</h1>\n",
    "</div>"
   ]
  },
  {
   "cell_type": "code",
   "execution_count": 3,
   "id": "02c326f9",
   "metadata": {},
   "outputs": [],
   "source": [
    "# Compute ROC curve and ROC area for each class\n",
    "def plot_roc_auc_curve(y_test, y_score_decision, classes, classifier):\n",
    "    \n",
    "    fpr = dict()\n",
    "    tpr = dict()\n",
    "    roc_auc = dict()\n",
    "    \n",
    "    for i, cls in enumerate(classes):\n",
    "        fpr[cls], tpr[cls], _ = roc_curve(y_test[:, i], y_score_decision[:, i])\n",
    "        roc_auc[cls] = auc(fpr[cls], tpr[cls])\n",
    "\n",
    "    # Compute micro-average ROC curve and ROC area\n",
    "    # ravel return a flatten array of dataframe\n",
    "    fpr[\"micro\"], tpr[\"micro\"], _ = roc_curve(y_test.ravel(), y_score_decision.ravel())\n",
    "    roc_auc[\"micro\"] = auc(fpr[\"micro\"], tpr[\"micro\"])\n",
    "\n",
    "    # Plot ROC curve\n",
    "    plt.figure(figsize=(9,6))\n",
    "    plt.plot(fpr[\"micro\"], tpr[\"micro\"], label=f'Micro média (área = {roc_auc[\"micro\"]:.2f})', linewidth=4)\n",
    "    \n",
    "    for i in classes:\n",
    "        plt.plot(fpr[i], tpr[i], label=f'Classe {i} (área = {roc_auc[i]:.2f})')\n",
    "\n",
    "    plt.plot([0, 1], [0, 1], 'k--')\n",
    "    plt.xlim([0.0, 1.0])\n",
    "    plt.ylim([0.0, 1.05])\n",
    "    plt.xlabel('FPR')\n",
    "    plt.ylabel('TPR')\n",
    "    plt.title('Curva ROC '+ classifier)\n",
    "    plt.legend(loc=\"lower right\")\n",
    "    plt.savefig(os.path.abspath('./images/roc_auc_'+classifier+'.pdf'), dpi=300)\n",
    "    plt.show()"
   ]
  },
  {
   "cell_type": "code",
   "execution_count": 42,
   "id": "c880a9bb",
   "metadata": {},
   "outputs": [],
   "source": [
    "# Compute ROC curves for all classifiers\n",
    "def plot_all_roc_auc_curves(y_test, y_score_decision, classifiers):\n",
    "    \n",
    "    fpr = dict()\n",
    "    tpr = dict()\n",
    "    roc_auc = dict()\n",
    "    \n",
    "    # Compute micro-average ROC curve and ROC area\n",
    "    # ravel return a flatten array of dataframe    \n",
    "    for decision, classifiers_ in zip(y_score_decision,classifiers):\n",
    "        fpr[classifiers_], tpr[classifiers_], _ = roc_curve(y_test.ravel(), decision.ravel())\n",
    "        roc_auc[classifiers_] = auc(fpr[classifiers_], tpr[classifiers_])\n",
    "\n",
    "    # Plot ROC curve\n",
    "    plt.figure(figsize=(12,8))\n",
    "    \n",
    "    for classifiers_ in classifiers:\n",
    "        plt.plot(fpr[classifiers_], tpr[classifiers_], label=f'{classifiers_} (área = {roc_auc[classifiers_]:.2f})', linewidth=4)\n",
    "\n",
    "    plt.plot([0, 1], [0, 1], 'k--')\n",
    "    plt.xlim([0.0, 1.0])\n",
    "    plt.ylim([0.0, 1.05])\n",
    "    #plt.title('Comparativos de Curvas ROC')\n",
    "    plt.xlabel('FPR')\n",
    "    plt.ylabel('TPR')\n",
    "    plt.legend(loc=\"lower right\")\n",
    "    plt.savefig(os.path.abspath('./images/roc_auc_all_non_normalization.pdf'), dpi=300)\n",
    "    plt.show()"
   ]
  },
  {
   "cell_type": "markdown",
   "id": "1e6a497e",
   "metadata": {},
   "source": [
    "<div class=\"alert alert-block alert-info\">\n",
    "    <h1>Loading files</h1>\n",
    "</div>"
   ]
  },
  {
   "cell_type": "code",
   "execution_count": 5,
   "id": "41e0bc7f",
   "metadata": {},
   "outputs": [],
   "source": [
    "#using beats with dwt sym9 function denoise\n",
    "df_train = pd.read_csv(os.path.abspath('./dataset/MIT_feat_extracted/non_normalization/df_beats_train_dwt_db14.csv'),header=0, index_col=[0])\n",
    "df_test = pd.read_csv(os.path.abspath('./dataset/MIT_feat_extracted/non_normalization/df_beats_test_dwt_db14.csv'),header=0, index_col=[0])"
   ]
  },
  {
   "cell_type": "code",
   "execution_count": 6,
   "id": "f583f038",
   "metadata": {},
   "outputs": [
    {
     "data": {
      "text/html": [
       "<div>\n",
       "<style scoped>\n",
       "    .dataframe tbody tr th:only-of-type {\n",
       "        vertical-align: middle;\n",
       "    }\n",
       "\n",
       "    .dataframe tbody tr th {\n",
       "        vertical-align: top;\n",
       "    }\n",
       "\n",
       "    .dataframe thead th {\n",
       "        text-align: right;\n",
       "    }\n",
       "</style>\n",
       "<table border=\"1\" class=\"dataframe\">\n",
       "  <thead>\n",
       "    <tr style=\"text-align: right;\">\n",
       "      <th></th>\n",
       "      <th>0</th>\n",
       "      <th>1</th>\n",
       "      <th>2</th>\n",
       "      <th>3</th>\n",
       "      <th>4</th>\n",
       "      <th>5</th>\n",
       "      <th>6</th>\n",
       "      <th>7</th>\n",
       "      <th>8</th>\n",
       "      <th>9</th>\n",
       "      <th>...</th>\n",
       "      <th>47</th>\n",
       "      <th>48</th>\n",
       "      <th>49</th>\n",
       "      <th>50</th>\n",
       "      <th>51</th>\n",
       "      <th>52</th>\n",
       "      <th>53</th>\n",
       "      <th>54</th>\n",
       "      <th>55</th>\n",
       "      <th>type_beat</th>\n",
       "    </tr>\n",
       "  </thead>\n",
       "  <tbody>\n",
       "    <tr>\n",
       "      <th>0</th>\n",
       "      <td>4.110874</td>\n",
       "      <td>0</td>\n",
       "      <td>10</td>\n",
       "      <td>-0.604450</td>\n",
       "      <td>-0.578498</td>\n",
       "      <td>-0.559761</td>\n",
       "      <td>-0.552918</td>\n",
       "      <td>-0.564654</td>\n",
       "      <td>-0.570032</td>\n",
       "      <td>0.016960</td>\n",
       "      <td>...</td>\n",
       "      <td>1.004545e-08</td>\n",
       "      <td>1.079164e-05</td>\n",
       "      <td>-1.721515e-10</td>\n",
       "      <td>-3.670798e-12</td>\n",
       "      <td>0.000009</td>\n",
       "      <td>9.010154e-11</td>\n",
       "      <td>0.000003</td>\n",
       "      <td>14.421633</td>\n",
       "      <td>-0.016531</td>\n",
       "      <td>N</td>\n",
       "    </tr>\n",
       "    <tr>\n",
       "      <th>1</th>\n",
       "      <td>4.110874</td>\n",
       "      <td>0</td>\n",
       "      <td>3</td>\n",
       "      <td>-0.539610</td>\n",
       "      <td>-0.536041</td>\n",
       "      <td>-0.419079</td>\n",
       "      <td>-0.376006</td>\n",
       "      <td>-0.512322</td>\n",
       "      <td>-0.483997</td>\n",
       "      <td>0.059599</td>\n",
       "      <td>...</td>\n",
       "      <td>4.340028e-09</td>\n",
       "      <td>1.196354e-05</td>\n",
       "      <td>1.771941e-10</td>\n",
       "      <td>-4.342513e-12</td>\n",
       "      <td>0.000010</td>\n",
       "      <td>1.088246e-10</td>\n",
       "      <td>0.000004</td>\n",
       "      <td>15.846909</td>\n",
       "      <td>0.061702</td>\n",
       "      <td>N</td>\n",
       "    </tr>\n",
       "    <tr>\n",
       "      <th>2</th>\n",
       "      <td>4.110874</td>\n",
       "      <td>0</td>\n",
       "      <td>5</td>\n",
       "      <td>-0.366957</td>\n",
       "      <td>-0.358665</td>\n",
       "      <td>-0.318583</td>\n",
       "      <td>-0.299862</td>\n",
       "      <td>-0.334531</td>\n",
       "      <td>-0.335753</td>\n",
       "      <td>0.022440</td>\n",
       "      <td>...</td>\n",
       "      <td>4.574423e-09</td>\n",
       "      <td>6.262465e-07</td>\n",
       "      <td>6.393569e-10</td>\n",
       "      <td>-9.145549e-12</td>\n",
       "      <td>0.000010</td>\n",
       "      <td>9.274462e-11</td>\n",
       "      <td>0.000002</td>\n",
       "      <td>26.405583</td>\n",
       "      <td>-0.752717</td>\n",
       "      <td>N</td>\n",
       "    </tr>\n",
       "    <tr>\n",
       "      <th>3</th>\n",
       "      <td>4.110874</td>\n",
       "      <td>0</td>\n",
       "      <td>7</td>\n",
       "      <td>-0.466258</td>\n",
       "      <td>-0.455706</td>\n",
       "      <td>-0.367655</td>\n",
       "      <td>-0.352899</td>\n",
       "      <td>-0.396769</td>\n",
       "      <td>-0.405929</td>\n",
       "      <td>0.042315</td>\n",
       "      <td>...</td>\n",
       "      <td>5.215524e-09</td>\n",
       "      <td>5.364911e-06</td>\n",
       "      <td>-1.745952e-10</td>\n",
       "      <td>1.133379e-11</td>\n",
       "      <td>0.000004</td>\n",
       "      <td>1.364688e-11</td>\n",
       "      <td>0.000001</td>\n",
       "      <td>10.238367</td>\n",
       "      <td>-0.133037</td>\n",
       "      <td>N</td>\n",
       "    </tr>\n",
       "    <tr>\n",
       "      <th>4</th>\n",
       "      <td>4.110874</td>\n",
       "      <td>0</td>\n",
       "      <td>5</td>\n",
       "      <td>-0.469871</td>\n",
       "      <td>-0.461266</td>\n",
       "      <td>-0.415642</td>\n",
       "      <td>-0.367008</td>\n",
       "      <td>-0.453317</td>\n",
       "      <td>-0.435701</td>\n",
       "      <td>0.033410</td>\n",
       "      <td>...</td>\n",
       "      <td>3.279908e-09</td>\n",
       "      <td>7.981469e-07</td>\n",
       "      <td>7.440704e-11</td>\n",
       "      <td>-7.770240e-12</td>\n",
       "      <td>0.000004</td>\n",
       "      <td>1.871986e-11</td>\n",
       "      <td>0.000001</td>\n",
       "      <td>34.439035</td>\n",
       "      <td>1.447392</td>\n",
       "      <td>N</td>\n",
       "    </tr>\n",
       "    <tr>\n",
       "      <th>...</th>\n",
       "      <td>...</td>\n",
       "      <td>...</td>\n",
       "      <td>...</td>\n",
       "      <td>...</td>\n",
       "      <td>...</td>\n",
       "      <td>...</td>\n",
       "      <td>...</td>\n",
       "      <td>...</td>\n",
       "      <td>...</td>\n",
       "      <td>...</td>\n",
       "      <td>...</td>\n",
       "      <td>...</td>\n",
       "      <td>...</td>\n",
       "      <td>...</td>\n",
       "      <td>...</td>\n",
       "      <td>...</td>\n",
       "      <td>...</td>\n",
       "      <td>...</td>\n",
       "      <td>...</td>\n",
       "      <td>...</td>\n",
       "      <td>...</td>\n",
       "    </tr>\n",
       "    <tr>\n",
       "      <th>50993</th>\n",
       "      <td>4.110874</td>\n",
       "      <td>2</td>\n",
       "      <td>7</td>\n",
       "      <td>-1.645057</td>\n",
       "      <td>-1.101385</td>\n",
       "      <td>-0.652121</td>\n",
       "      <td>-0.635047</td>\n",
       "      <td>-0.717947</td>\n",
       "      <td>-0.875602</td>\n",
       "      <td>0.383112</td>\n",
       "      <td>...</td>\n",
       "      <td>3.276801e-08</td>\n",
       "      <td>2.856824e-06</td>\n",
       "      <td>-7.056537e-11</td>\n",
       "      <td>-4.574468e-11</td>\n",
       "      <td>0.000114</td>\n",
       "      <td>1.308547e-08</td>\n",
       "      <td>0.000024</td>\n",
       "      <td>42.893361</td>\n",
       "      <td>1.598537</td>\n",
       "      <td>F</td>\n",
       "    </tr>\n",
       "    <tr>\n",
       "      <th>50994</th>\n",
       "      <td>4.110874</td>\n",
       "      <td>2</td>\n",
       "      <td>3</td>\n",
       "      <td>-1.761832</td>\n",
       "      <td>-1.024602</td>\n",
       "      <td>-0.672037</td>\n",
       "      <td>-0.306203</td>\n",
       "      <td>-0.734347</td>\n",
       "      <td>-0.870766</td>\n",
       "      <td>0.457138</td>\n",
       "      <td>...</td>\n",
       "      <td>2.865042e-08</td>\n",
       "      <td>1.863300e-06</td>\n",
       "      <td>1.150316e-09</td>\n",
       "      <td>6.897491e-11</td>\n",
       "      <td>0.000044</td>\n",
       "      <td>1.936931e-09</td>\n",
       "      <td>0.000011</td>\n",
       "      <td>30.001597</td>\n",
       "      <td>1.019354</td>\n",
       "      <td>F</td>\n",
       "    </tr>\n",
       "    <tr>\n",
       "      <th>50995</th>\n",
       "      <td>4.110874</td>\n",
       "      <td>0</td>\n",
       "      <td>6</td>\n",
       "      <td>-1.116447</td>\n",
       "      <td>-0.933332</td>\n",
       "      <td>-0.906662</td>\n",
       "      <td>-0.787174</td>\n",
       "      <td>-0.909037</td>\n",
       "      <td>-0.936475</td>\n",
       "      <td>0.116167</td>\n",
       "      <td>...</td>\n",
       "      <td>8.485294e-09</td>\n",
       "      <td>5.035342e-08</td>\n",
       "      <td>-3.501161e-11</td>\n",
       "      <td>-2.912289e-11</td>\n",
       "      <td>0.000035</td>\n",
       "      <td>1.241789e-09</td>\n",
       "      <td>0.000008</td>\n",
       "      <td>28.497408</td>\n",
       "      <td>1.341853</td>\n",
       "      <td>F</td>\n",
       "    </tr>\n",
       "    <tr>\n",
       "      <th>50996</th>\n",
       "      <td>4.110874</td>\n",
       "      <td>0</td>\n",
       "      <td>11</td>\n",
       "      <td>-0.971133</td>\n",
       "      <td>-0.727148</td>\n",
       "      <td>-0.535486</td>\n",
       "      <td>-0.355158</td>\n",
       "      <td>-0.635562</td>\n",
       "      <td>-0.631869</td>\n",
       "      <td>0.186320</td>\n",
       "      <td>...</td>\n",
       "      <td>8.077943e-08</td>\n",
       "      <td>4.523060e-06</td>\n",
       "      <td>-5.893751e-10</td>\n",
       "      <td>4.804008e-10</td>\n",
       "      <td>0.000114</td>\n",
       "      <td>1.308173e-08</td>\n",
       "      <td>0.000022</td>\n",
       "      <td>46.870254</td>\n",
       "      <td>1.711337</td>\n",
       "      <td>F</td>\n",
       "    </tr>\n",
       "    <tr>\n",
       "      <th>50997</th>\n",
       "      <td>4.110874</td>\n",
       "      <td>0</td>\n",
       "      <td>1</td>\n",
       "      <td>-0.967800</td>\n",
       "      <td>-0.886703</td>\n",
       "      <td>-0.691694</td>\n",
       "      <td>-0.679785</td>\n",
       "      <td>-0.824340</td>\n",
       "      <td>-0.800588</td>\n",
       "      <td>0.102430</td>\n",
       "      <td>...</td>\n",
       "      <td>1.974608e-10</td>\n",
       "      <td>5.892021e-06</td>\n",
       "      <td>-4.961358e-11</td>\n",
       "      <td>4.201680e-12</td>\n",
       "      <td>0.000055</td>\n",
       "      <td>3.051061e-09</td>\n",
       "      <td>0.000011</td>\n",
       "      <td>44.959920</td>\n",
       "      <td>-1.678399</td>\n",
       "      <td>F</td>\n",
       "    </tr>\n",
       "  </tbody>\n",
       "</table>\n",
       "<p>50998 rows × 57 columns</p>\n",
       "</div>"
      ],
      "text/plain": [
       "              0  1   2         3         4         5         6         7  \\\n",
       "0      4.110874  0  10 -0.604450 -0.578498 -0.559761 -0.552918 -0.564654   \n",
       "1      4.110874  0   3 -0.539610 -0.536041 -0.419079 -0.376006 -0.512322   \n",
       "2      4.110874  0   5 -0.366957 -0.358665 -0.318583 -0.299862 -0.334531   \n",
       "3      4.110874  0   7 -0.466258 -0.455706 -0.367655 -0.352899 -0.396769   \n",
       "4      4.110874  0   5 -0.469871 -0.461266 -0.415642 -0.367008 -0.453317   \n",
       "...         ... ..  ..       ...       ...       ...       ...       ...   \n",
       "50993  4.110874  2   7 -1.645057 -1.101385 -0.652121 -0.635047 -0.717947   \n",
       "50994  4.110874  2   3 -1.761832 -1.024602 -0.672037 -0.306203 -0.734347   \n",
       "50995  4.110874  0   6 -1.116447 -0.933332 -0.906662 -0.787174 -0.909037   \n",
       "50996  4.110874  0  11 -0.971133 -0.727148 -0.535486 -0.355158 -0.635562   \n",
       "50997  4.110874  0   1 -0.967800 -0.886703 -0.691694 -0.679785 -0.824340   \n",
       "\n",
       "              8         9  ...            47            48            49  \\\n",
       "0     -0.570032  0.016960  ...  1.004545e-08  1.079164e-05 -1.721515e-10   \n",
       "1     -0.483997  0.059599  ...  4.340028e-09  1.196354e-05  1.771941e-10   \n",
       "2     -0.335753  0.022440  ...  4.574423e-09  6.262465e-07  6.393569e-10   \n",
       "3     -0.405929  0.042315  ...  5.215524e-09  5.364911e-06 -1.745952e-10   \n",
       "4     -0.435701  0.033410  ...  3.279908e-09  7.981469e-07  7.440704e-11   \n",
       "...         ...       ...  ...           ...           ...           ...   \n",
       "50993 -0.875602  0.383112  ...  3.276801e-08  2.856824e-06 -7.056537e-11   \n",
       "50994 -0.870766  0.457138  ...  2.865042e-08  1.863300e-06  1.150316e-09   \n",
       "50995 -0.936475  0.116167  ...  8.485294e-09  5.035342e-08 -3.501161e-11   \n",
       "50996 -0.631869  0.186320  ...  8.077943e-08  4.523060e-06 -5.893751e-10   \n",
       "50997 -0.800588  0.102430  ...  1.974608e-10  5.892021e-06 -4.961358e-11   \n",
       "\n",
       "                 50        51            52        53         54        55  \\\n",
       "0     -3.670798e-12  0.000009  9.010154e-11  0.000003  14.421633 -0.016531   \n",
       "1     -4.342513e-12  0.000010  1.088246e-10  0.000004  15.846909  0.061702   \n",
       "2     -9.145549e-12  0.000010  9.274462e-11  0.000002  26.405583 -0.752717   \n",
       "3      1.133379e-11  0.000004  1.364688e-11  0.000001  10.238367 -0.133037   \n",
       "4     -7.770240e-12  0.000004  1.871986e-11  0.000001  34.439035  1.447392   \n",
       "...             ...       ...           ...       ...        ...       ...   \n",
       "50993 -4.574468e-11  0.000114  1.308547e-08  0.000024  42.893361  1.598537   \n",
       "50994  6.897491e-11  0.000044  1.936931e-09  0.000011  30.001597  1.019354   \n",
       "50995 -2.912289e-11  0.000035  1.241789e-09  0.000008  28.497408  1.341853   \n",
       "50996  4.804008e-10  0.000114  1.308173e-08  0.000022  46.870254  1.711337   \n",
       "50997  4.201680e-12  0.000055  3.051061e-09  0.000011  44.959920 -1.678399   \n",
       "\n",
       "       type_beat  \n",
       "0              N  \n",
       "1              N  \n",
       "2              N  \n",
       "3              N  \n",
       "4              N  \n",
       "...          ...  \n",
       "50993          F  \n",
       "50994          F  \n",
       "50995          F  \n",
       "50996          F  \n",
       "50997          F  \n",
       "\n",
       "[50998 rows x 57 columns]"
      ]
     },
     "execution_count": 6,
     "metadata": {},
     "output_type": "execute_result"
    }
   ],
   "source": [
    "df_train"
   ]
  },
  {
   "cell_type": "code",
   "execution_count": 7,
   "id": "024b8e2a",
   "metadata": {},
   "outputs": [],
   "source": [
    "#removing classes F and Q\n",
    "df_train = df_train.query('type_beat != [\"F\",\"Q\"]')\n",
    "df_test = df_test.query('type_beat != [\"F\",\"Q\"]')"
   ]
  },
  {
   "cell_type": "code",
   "execution_count": 8,
   "id": "7640200a",
   "metadata": {},
   "outputs": [],
   "source": [
    "#splitting the train dataset\n",
    "X_train,y_train = df_train.drop(['type_beat'],axis=1), df_train[['type_beat']]"
   ]
  },
  {
   "cell_type": "code",
   "execution_count": 9,
   "id": "c38916c8",
   "metadata": {},
   "outputs": [],
   "source": [
    "#splitting the test dataset\n",
    "X_test,y_test = df_test.drop(['type_beat'],axis=1), df_test[['type_beat']]"
   ]
  },
  {
   "cell_type": "code",
   "execution_count": 10,
   "id": "a79d3167",
   "metadata": {},
   "outputs": [
    {
     "data": {
      "text/plain": [
       "Counter({'N': 45844, 'S': 944, 'V': 3788})"
      ]
     },
     "execution_count": 10,
     "metadata": {},
     "output_type": "execute_result"
    }
   ],
   "source": [
    "#counting the classes \n",
    "Counter(df_train['type_beat'])"
   ]
  },
  {
   "cell_type": "code",
   "execution_count": 11,
   "id": "cf1c26f9",
   "metadata": {},
   "outputs": [
    {
     "data": {
      "text/plain": [
       "Counter({'N': 44238, 'S': 1837, 'V': 3220})"
      ]
     },
     "execution_count": 11,
     "metadata": {},
     "output_type": "execute_result"
    }
   ],
   "source": [
    "#counting the classes \n",
    "Counter(df_test['type_beat'])"
   ]
  },
  {
   "cell_type": "code",
   "execution_count": 12,
   "id": "315ee417",
   "metadata": {},
   "outputs": [],
   "source": [
    "#applying SMOTE in training set of dwt denoise\n",
    "\n",
    "#pipeline = make_pipeline(SMOTE(sampling_strategy={'N': 45844, 'S': 4000, 'V': 4000}),\n",
    "#                        RandomUnderSampler(sampling_strategy={'N': 4000, 'S': 4000, 'V': 4000}))\n",
    "#X_train_smote, y_train_smote = pipeline.fit_resample(X_train,y_train)"
   ]
  },
  {
   "cell_type": "code",
   "execution_count": 13,
   "id": "70fbdb15",
   "metadata": {},
   "outputs": [],
   "source": [
    "#reshape the dataframes of data and target\n",
    "X = X_train.values.astype(float)\n",
    "y = y_train.values.squeeze()"
   ]
  },
  {
   "cell_type": "code",
   "execution_count": 14,
   "id": "c894027e",
   "metadata": {},
   "outputs": [],
   "source": [
    "#reshape the dataframes of data and target\n",
    "X_t = X_test.values.astype(float)\n",
    "y_t = y_test.values.squeeze()"
   ]
  },
  {
   "cell_type": "code",
   "execution_count": 15,
   "id": "aaca52a5",
   "metadata": {
    "scrolled": true
   },
   "outputs": [],
   "source": [
    "# encode class values as integers\n",
    "encoder = LabelEncoder()\n",
    "encoder.fit(y)\n",
    "encoded_y = encoder.transform(y)\n",
    "dummy_y = np_utils.to_categorical(encoded_y)"
   ]
  },
  {
   "cell_type": "code",
   "execution_count": 16,
   "id": "7f2d60fa",
   "metadata": {},
   "outputs": [],
   "source": [
    "# encode class values as integers\n",
    "encoder = LabelEncoder()\n",
    "encoder.fit(y_t)\n",
    "encoded_y_test = encoder.transform(y_t)\n",
    "dummy_y_test = np_utils.to_categorical(encoded_y_test)"
   ]
  },
  {
   "cell_type": "markdown",
   "id": "1d8b07fa",
   "metadata": {},
   "source": [
    "<div class=\"alert alert-block alert-info\">\n",
    "    <h1>Classification</h1>\n",
    "</div>"
   ]
  },
  {
   "cell_type": "markdown",
   "id": "360b6656",
   "metadata": {},
   "source": [
    "# Neural network"
   ]
  },
  {
   "cell_type": "code",
   "execution_count": 17,
   "id": "7eb9af4a",
   "metadata": {},
   "outputs": [],
   "source": [
    "# define baseline model\n",
    "def model_1(X):\n",
    "    \n",
    "    model = Sequential()\n",
    "    model.add(Dense(10, input_shape=(X.shape[1],), activation='relu'))\n",
    "    model.add(Dense(3, activation='softmax'))\n",
    "    model.summary()\n",
    "    model.compile(loss='categorical_crossentropy', optimizer='adam', metrics=['accuracy'])\n",
    "    \n",
    "    return model"
   ]
  },
  {
   "cell_type": "code",
   "execution_count": 18,
   "id": "7dd5428f",
   "metadata": {},
   "outputs": [],
   "source": [
    "#stop training when loss has stopped improving after 10 epochs\n",
    "es = EarlyStopping(monitor='loss', \n",
    "                   mode='min',\n",
    "                   patience=10, \n",
    "                   restore_best_weights=True)"
   ]
  },
  {
   "cell_type": "code",
   "execution_count": 19,
   "id": "2c1e58af",
   "metadata": {},
   "outputs": [
    {
     "name": "stdout",
     "output_type": "stream",
     "text": [
      "Model: \"sequential\"\n",
      "_________________________________________________________________\n",
      "Layer (type)                 Output Shape              Param #   \n",
      "=================================================================\n",
      "dense (Dense)                (None, 10)                570       \n",
      "_________________________________________________________________\n",
      "dense_1 (Dense)              (None, 3)                 33        \n",
      "=================================================================\n",
      "Total params: 603\n",
      "Trainable params: 603\n",
      "Non-trainable params: 0\n",
      "_________________________________________________________________\n"
     ]
    }
   ],
   "source": [
    "model = model_1(X)"
   ]
  },
  {
   "cell_type": "code",
   "execution_count": 20,
   "id": "25e187f4",
   "metadata": {},
   "outputs": [
    {
     "name": "stdout",
     "output_type": "stream",
     "text": [
      "Epoch 1/8000000\n",
      "4046/4046 [==============================] - 6s 1ms/step - loss: 0.4328 - accuracy: 0.9696 - val_loss: 24.0563 - val_accuracy: 0.5322\n",
      "Epoch 2/8000000\n",
      "4046/4046 [==============================] - 5s 1ms/step - loss: 4.2184e-06 - accuracy: 1.0000 - val_loss: 24.9763 - val_accuracy: 0.5322\n",
      "Epoch 3/8000000\n",
      "4046/4046 [==============================] - 5s 1ms/step - loss: 4.8235e-07 - accuracy: 1.0000 - val_loss: 26.0893 - val_accuracy: 0.5322\n",
      "Epoch 4/8000000\n",
      "4046/4046 [==============================] - 5s 1ms/step - loss: 6.7455e-08 - accuracy: 1.0000 - val_loss: 27.1629 - val_accuracy: 0.5322\n",
      "Epoch 5/8000000\n",
      "4046/4046 [==============================] - 5s 1ms/step - loss: 9.3028e-09 - accuracy: 1.0000 - val_loss: 28.0270 - val_accuracy: 0.5322\n",
      "Epoch 6/8000000\n",
      "4046/4046 [==============================] - 5s 1ms/step - loss: 1.7598e-09 - accuracy: 1.0000 - val_loss: 28.8052 - val_accuracy: 0.5322\n",
      "Epoch 7/8000000\n",
      "4046/4046 [==============================] - 5s 1ms/step - loss: 1.4071e-10 - accuracy: 1.0000 - val_loss: 29.1982 - val_accuracy: 0.5322\n",
      "Epoch 8/8000000\n",
      "4046/4046 [==============================] - 5s 1ms/step - loss: 1.1610e-11 - accuracy: 1.0000 - val_loss: 29.0633 - val_accuracy: 0.5322\n",
      "Epoch 9/8000000\n",
      "4046/4046 [==============================] - 5s 1ms/step - loss: 0.0000e+00 - accuracy: 1.0000 - val_loss: 28.9340 - val_accuracy: 0.5322\n",
      "Epoch 10/8000000\n",
      "4046/4046 [==============================] - 5s 1ms/step - loss: 0.0000e+00 - accuracy: 1.0000 - val_loss: 29.1251 - val_accuracy: 0.5322\n",
      "Epoch 11/8000000\n",
      "4046/4046 [==============================] - 5s 1ms/step - loss: 0.0000e+00 - accuracy: 1.0000 - val_loss: 29.2795 - val_accuracy: 0.5322\n",
      "Epoch 12/8000000\n",
      "4046/4046 [==============================] - 5s 1ms/step - loss: 0.0000e+00 - accuracy: 1.0000 - val_loss: 29.3761 - val_accuracy: 0.5322\n",
      "Epoch 13/8000000\n",
      "4046/4046 [==============================] - 5s 1ms/step - loss: 0.0000e+00 - accuracy: 1.0000 - val_loss: 29.4488 - val_accuracy: 0.5322\n",
      "Epoch 14/8000000\n",
      "4046/4046 [==============================] - 5s 1ms/step - loss: 0.0000e+00 - accuracy: 1.0000 - val_loss: 29.5056 - val_accuracy: 0.5322\n",
      "Epoch 15/8000000\n",
      "4046/4046 [==============================] - 4s 1ms/step - loss: 0.0000e+00 - accuracy: 1.0000 - val_loss: 29.5509 - val_accuracy: 0.5322\n",
      "Epoch 16/8000000\n",
      "4046/4046 [==============================] - 4s 1ms/step - loss: 0.0000e+00 - accuracy: 1.0000 - val_loss: 29.5915 - val_accuracy: 0.5322\n",
      "Epoch 17/8000000\n",
      "4046/4046 [==============================] - 5s 1ms/step - loss: 0.0000e+00 - accuracy: 1.0000 - val_loss: 29.6247 - val_accuracy: 0.5322\n",
      "Epoch 18/8000000\n",
      "4046/4046 [==============================] - 4s 1ms/step - loss: 0.0000e+00 - accuracy: 1.0000 - val_loss: 29.6539 - val_accuracy: 0.5322\n",
      "Epoch 19/8000000\n",
      "4046/4046 [==============================] - 5s 1ms/step - loss: 0.0000e+00 - accuracy: 1.0000 - val_loss: 29.6789 - val_accuracy: 0.5322\n"
     ]
    }
   ],
   "source": [
    "history = model.fit(X, \n",
    "                    dummy_y, \n",
    "                    epochs=8000000, \n",
    "                    callbacks=[es], \n",
    "                    batch_size=10, \n",
    "                    shuffle=True,\n",
    "                    validation_split=0.2,\n",
    "                    verbose=1)"
   ]
  },
  {
   "cell_type": "code",
   "execution_count": 27,
   "id": "83fb9159",
   "metadata": {
    "scrolled": true
   },
   "outputs": [
    {
     "data": {
      "image/png": "[encoded data removed]",
      "text/plain": [
       "<Figure size 864x432 with 2 Axes>"
      ]
     },
     "metadata": {
      "needs_background": "light"
     },
     "output_type": "display_data"
    }
   ],
   "source": [
    "history_dict = history.history\n",
    "\n",
    "# learning curves\n",
    "acc = history_dict['accuracy']\n",
    "loss = history_dict['loss']\n",
    "epochs = range(1, len(acc) + 1)\n",
    "\n",
    "fig, ax = plt.subplots(1,2,figsize=(12,6))\n",
    "\n",
    "ax[0].plot(epochs, acc, 'r', label='Training accuracy')\n",
    "ax[1].plot(epochs, loss, 'b', label='Training Loss')\n",
    "\n",
    "ax[0].set_title('Accuracy')\n",
    "ax[1].set_title('Loss')\n",
    "\n",
    "ax[0].set_xlabel('Epochs')\n",
    "ax[1].set_xlabel('Epochs')\n",
    "\n",
    "ax[0].set_ylabel('Accuracy')\n",
    "ax[1].set_ylabel('Loss')\n",
    "\n",
    "plt.legend()\n",
    "plt.show()"
   ]
  },
  {
   "cell_type": "code",
   "execution_count": 28,
   "id": "a4633ee7",
   "metadata": {},
   "outputs": [
    {
     "name": "stdout",
     "output_type": "stream",
     "text": [
      "386/386 [==============================] - 0s 868us/step - loss: 6.1307 - accuracy: 0.8974\n",
      "\n",
      "\n",
      "Accuracy: 89.74 (6.13)\n"
     ]
    }
   ],
   "source": [
    "loss, accuracy = model.evaluate(X_t,\n",
    "                                dummy_y_test,\n",
    "                                batch_size=128, \n",
    "                                verbose=1)\n",
    "print('\\n')\n",
    "print(f'Accuracy: {(accuracy*100):.2f} ({loss:.2f})')"
   ]
  },
  {
   "cell_type": "code",
   "execution_count": 29,
   "id": "29a1c58d",
   "metadata": {},
   "outputs": [],
   "source": [
    "# make class predictions with the model\n",
    "y_train_pred_ann = model.predict(X)\n",
    "y_test_pred_ann = model.predict(X_t)"
   ]
  },
  {
   "cell_type": "code",
   "execution_count": 30,
   "id": "dd235ddc",
   "metadata": {
    "scrolled": true
   },
   "outputs": [
    {
     "name": "stdout",
     "output_type": "stream",
     "text": [
      "              precision    recall  f1-score   support\n",
      "\n",
      "           0       0.91      1.00      0.95     45844\n",
      "           1       0.00      0.00      0.00       944\n",
      "           2       0.00      0.00      0.00      3788\n",
      "\n",
      "    accuracy                           0.91     50576\n",
      "   macro avg       0.30      0.33      0.32     50576\n",
      "weighted avg       0.82      0.91      0.86     50576\n",
      "\n"
     ]
    }
   ],
   "source": [
    "#getting the report of training set\n",
    "print(classification_report(dummy_y.argmax(axis=1), y_train_pred_ann.argmax(axis=1), zero_division=0))"
   ]
  },
  {
   "cell_type": "code",
   "execution_count": 31,
   "id": "62b3b17e",
   "metadata": {},
   "outputs": [
    {
     "name": "stdout",
     "output_type": "stream",
     "text": [
      "              precision    recall  f1-score   support\n",
      "\n",
      "           0       0.90      1.00      0.95     44238\n",
      "           1       0.00      0.00      0.00      1837\n",
      "           2       0.00      0.00      0.00      3220\n",
      "\n",
      "    accuracy                           0.90     49295\n",
      "   macro avg       0.30      0.33      0.32     49295\n",
      "weighted avg       0.81      0.90      0.85     49295\n",
      "\n"
     ]
    }
   ],
   "source": [
    "print(classification_report(dummy_y_test.argmax(axis=1), y_test_pred_ann.argmax(axis=1), zero_division=0))"
   ]
  },
  {
   "cell_type": "code",
   "execution_count": 32,
   "id": "94c7c5d8",
   "metadata": {},
   "outputs": [
    {
     "data": {
      "text/plain": [
       "Text(609.9818181818181, 0.5, 'True label')"
      ]
     },
     "execution_count": 32,
     "metadata": {},
     "output_type": "execute_result"
    },
    {
     "data": {
      "image/png": "[encoded data removed]",
      "text/plain": [
       "<Figure size 1152x432 with 4 Axes>"
      ]
     },
     "metadata": {
      "needs_background": "light"
     },
     "output_type": "display_data"
    }
   ],
   "source": [
    "fig, ax = plt.subplots(1,2,figsize=(16,6))\n",
    "\n",
    "matrix_train_ann = confusion_matrix(dummy_y.argmax(axis=1), y_train_pred_ann.argmax(axis=1))\n",
    "matrix_test_ann = confusion_matrix(dummy_y_test.argmax(axis=1), y_test_pred_ann.argmax(axis=1))\n",
    "\n",
    "sns.heatmap(matrix_train_ann, ax=ax[0],\n",
    "            xticklabels=['N','S','V'], \n",
    "            yticklabels=['N','S','V'],\n",
    "            annot=True, \n",
    "            fmt='.0f', \n",
    "            cmap='rocket_r',)\n",
    "sns.heatmap(matrix_test_ann, ax=ax[1],\n",
    "            xticklabels=['N','S','V'], \n",
    "            yticklabels=['N','S','V'],\n",
    "            annot=True, \n",
    "            fmt='.0f', \n",
    "            cmap='rocket_r')\n",
    "plt.suptitle('Confusion matrix Neural network', fontsize=20)\n",
    "ax[0].set_title('Train set', fontsize=18)\n",
    "ax[0].set_xlabel('Predict label', fontsize=16)\n",
    "ax[0].set_ylabel('True label', fontsize=16)\n",
    "ax[1].set_title('Test set', fontsize=18)\n",
    "ax[1].set_xlabel('Predict label', fontsize=16)\n",
    "ax[1].set_ylabel('True label', fontsize=16)"
   ]
  },
  {
   "cell_type": "markdown",
   "id": "d99bfbc5",
   "metadata": {},
   "source": [
    "# XGradient Boost"
   ]
  },
  {
   "cell_type": "code",
   "execution_count": 33,
   "id": "2f36a494",
   "metadata": {},
   "outputs": [],
   "source": [
    "scv =  StratifiedKFold(n_splits=10, shuffle=True, random_state=1)\n",
    "scores_ = {'accuracy' : metrics.make_scorer(metrics.accuracy_score),\n",
    "           'recall'   : metrics.make_scorer(metrics.recall_score, average='weighted', zero_division=0),\n",
    "           'precision': metrics.make_scorer(metrics.precision_score, average='weighted', zero_division=0),\n",
    "           'f1'       : metrics.make_scorer(metrics.fbeta_score, beta = 2, average='weighted' )}"
   ]
  },
  {
   "cell_type": "code",
   "execution_count": 34,
   "id": "4eefac9e",
   "metadata": {},
   "outputs": [],
   "source": [
    "xgboost = xgb.XGBClassifier(n_estimator=1000, \n",
    "                            random_state=1, \n",
    "                            n_jobs=-1,                             \n",
    "                            learning_rate=0.1)"
   ]
  },
  {
   "cell_type": "code",
   "execution_count": 89,
   "id": "876f84e0",
   "metadata": {},
   "outputs": [],
   "source": [
    "xgboost_result = cross_validate(xgboost, \n",
    "                                X_train, \n",
    "                                y_train, \n",
    "                                scoring=scores_, \n",
    "                                cv=scv, \n",
    "                                n_jobs=-1,\n",
    "                                return_train_score=True)"
   ]
  },
  {
   "cell_type": "code",
   "execution_count": 112,
   "id": "af0367ad",
   "metadata": {},
   "outputs": [
    {
     "name": "stdout",
     "output_type": "stream",
     "text": [
      "Metrics using 10-fold validation\n",
      "Accuracy: 0.96\n",
      "Recall: 0.96\n",
      "Precision: 0.96\n",
      "F1-score: 0.96\n"
     ]
    }
   ],
   "source": [
    "print('Metrics using 10-fold validation')\n",
    "print(f\"Accuracy: {xgboost_result['test_accuracy'].mean():.2f}\")\n",
    "print(f\"Recall: {xgboost_result['test_recall'].mean():.2f}\")\n",
    "print(f\"Precision: {xgboost_result['test_precision'].mean():.2f}\")\n",
    "print(f\"F1-score: {xgboost_result['test_f1'].mean():.2f}\")"
   ]
  },
  {
   "cell_type": "code",
   "execution_count": 35,
   "id": "7b248e9e",
   "metadata": {},
   "outputs": [
    {
     "name": "stderr",
     "output_type": "stream",
     "text": [
      "/media/share/comum/env/nevasca/lib/python3.8/site-packages/xgboost/sklearn.py:1224: UserWarning: The use of label encoder in XGBClassifier is deprecated and will be removed in a future release. To remove this warning, do the following: 1) Pass option use_label_encoder=False when constructing XGBClassifier object; and 2) Encode your labels (y) as integers starting with 0, i.e. 0, 1, 2, ..., [num_class - 1].\n",
      "  warnings.warn(label_encoder_deprecation_msg, UserWarning)\n"
     ]
    },
    {
     "name": "stdout",
     "output_type": "stream",
     "text": [
      "[16:24:45] WARNING: ../src/learner.cc:576: \n",
      "Parameters: { \"n_estimator\" } might not be used.\n",
      "\n",
      "  This could be a false alarm, with some parameters getting used by language bindings but\n",
      "  then being mistakenly passed down to XGBoost core, or some parameter actually being used\n",
      "  but getting flagged wrongly here. Please open an issue if you find any such cases.\n",
      "\n",
      "\n",
      "[16:24:45] WARNING: ../src/learner.cc:1115: Starting in XGBoost 1.3.0, the default evaluation metric used with the objective 'multi:softprob' was changed from 'merror' to 'mlogloss'. Explicitly set eval_metric if you'd like to restore the old behavior.\n"
     ]
    },
    {
     "data": {
      "text/plain": [
       "XGBClassifier(base_score=0.5, booster='gbtree', colsample_bylevel=1,\n",
       "              colsample_bynode=1, colsample_bytree=1, enable_categorical=False,\n",
       "              gamma=0, gpu_id=-1, importance_type=None,\n",
       "              interaction_constraints='', learning_rate=0.1, max_delta_step=0,\n",
       "              max_depth=6, min_child_weight=1, missing=nan,\n",
       "              monotone_constraints='()', n_estimator=1000, n_estimators=100,\n",
       "              n_jobs=-1, num_parallel_tree=1, objective='multi:softprob',\n",
       "              predictor='auto', random_state=1, reg_alpha=0, reg_lambda=1,\n",
       "              scale_pos_weight=None, subsample=1, tree_method='exact',\n",
       "              validate_parameters=1, verbosity=None)"
      ]
     },
     "execution_count": 35,
     "metadata": {},
     "output_type": "execute_result"
    }
   ],
   "source": [
    "xgboost.fit(X,y)"
   ]
  },
  {
   "cell_type": "code",
   "execution_count": 92,
   "id": "d676666d",
   "metadata": {},
   "outputs": [],
   "source": [
    "train_pred_xgb = xgboost.predict(X_train)\n",
    "test_pred_xgb = xgboost.predict(X_test)"
   ]
  },
  {
   "cell_type": "code",
   "execution_count": 93,
   "id": "31b349bb",
   "metadata": {},
   "outputs": [
    {
     "name": "stdout",
     "output_type": "stream",
     "text": [
      "              precision    recall  f1-score   support\n",
      "\n",
      "           N       0.98      1.00      0.99     45844\n",
      "           S       0.98      0.61      0.75       944\n",
      "           V       0.96      0.85      0.90      3788\n",
      "\n",
      "    accuracy                           0.98     50576\n",
      "   macro avg       0.97      0.82      0.88     50576\n",
      "weighted avg       0.98      0.98      0.98     50576\n",
      "\n"
     ]
    }
   ],
   "source": [
    "print(classification_report(y_train, train_pred_xgb))"
   ]
  },
  {
   "cell_type": "code",
   "execution_count": 94,
   "id": "56a6c0bf",
   "metadata": {},
   "outputs": [
    {
     "name": "stdout",
     "output_type": "stream",
     "text": [
      "              precision    recall  f1-score   support\n",
      "\n",
      "           N       0.92      0.89      0.91     44238\n",
      "           S       0.02      0.00      0.00      1837\n",
      "           V       0.26      0.53      0.35      3220\n",
      "\n",
      "    accuracy                           0.84     49295\n",
      "   macro avg       0.40      0.47      0.42     49295\n",
      "weighted avg       0.85      0.84      0.84     49295\n",
      "\n"
     ]
    }
   ],
   "source": [
    "print(classification_report(y_test, test_pred_xgb))"
   ]
  },
  {
   "cell_type": "code",
   "execution_count": 95,
   "id": "780704cf",
   "metadata": {},
   "outputs": [
    {
     "data": {
      "text/plain": [
       "Text(609.9818181818181, 0.5, 'True label')"
      ]
     },
     "execution_count": 95,
     "metadata": {},
     "output_type": "execute_result"
    },
    {
     "data": {
      "image/png": "[encoded data removed]",
      "text/plain": [
       "<Figure size 1152x432 with 4 Axes>"
      ]
     },
     "metadata": {
      "needs_background": "light"
     },
     "output_type": "display_data"
    }
   ],
   "source": [
    "fig, ax = plt.subplots(1,2,figsize=(16,6))\n",
    "\n",
    "matrix_train_xgb = confusion_matrix(y_train, train_pred_xgb, labels=xgboost.classes_)\n",
    "matrix_test_xgb = confusion_matrix(y_test, test_pred_xgb, labels=xgboost.classes_)\n",
    "\n",
    "sns.heatmap(matrix_train_xgb, ax=ax[0],\n",
    "            xticklabels=xgboost.classes_, \n",
    "            yticklabels=xgboost.classes_,\n",
    "            annot=True, \n",
    "            fmt='.0f', \n",
    "            cmap='rocket_r',)\n",
    "sns.heatmap(matrix_test_xgb, ax=ax[1],\n",
    "            xticklabels=xgboost.classes_, \n",
    "            yticklabels=xgboost.classes_,\n",
    "            annot=True, \n",
    "            fmt='.0f', \n",
    "            cmap='rocket_r')\n",
    "plt.suptitle('Confusion matrix XGradient Boosting', fontsize=20)\n",
    "ax[0].set_title('Train set', fontsize=18)\n",
    "ax[0].set_xlabel('Predict label', fontsize=16)\n",
    "ax[0].set_ylabel('True label', fontsize=16)\n",
    "ax[1].set_title('Test set', fontsize=18)\n",
    "ax[1].set_xlabel('Predict label', fontsize=16)\n",
    "ax[1].set_ylabel('True label', fontsize=16)\n",
    "#plt.savefig(os.path.abspath('./images/confusion_xgradient_boosting.pdf'), dpi=300)"
   ]
  },
  {
   "cell_type": "markdown",
   "id": "27066f29",
   "metadata": {},
   "source": [
    "# Gradient Boost"
   ]
  },
  {
   "cell_type": "code",
   "execution_count": 36,
   "id": "ea246fb9",
   "metadata": {},
   "outputs": [],
   "source": [
    "grdboost = GradientBoostingClassifier(n_estimators=200,\n",
    "                                       random_state=1)"
   ]
  },
  {
   "cell_type": "code",
   "execution_count": 105,
   "id": "5266cbe4",
   "metadata": {},
   "outputs": [],
   "source": [
    "grd_result = cross_validate(grdboost, \n",
    "                            X_train, \n",
    "                            y_train, \n",
    "                            scoring=scores_, \n",
    "                            cv=scv, \n",
    "                            n_jobs=-1,\n",
    "                            return_train_score=True)"
   ]
  },
  {
   "cell_type": "code",
   "execution_count": 113,
   "id": "fa2a7211",
   "metadata": {},
   "outputs": [
    {
     "name": "stdout",
     "output_type": "stream",
     "text": [
      "Metrics using 10-fold validation\n",
      "Accuracy: 0.95\n",
      "Recall: 0.95\n",
      "Precision: 0.94\n",
      "F1-score: 0.94\n"
     ]
    }
   ],
   "source": [
    "print('Metrics using 10-fold validation')\n",
    "print(f\"Accuracy: {grd_result['test_accuracy'].mean():.2f}\")\n",
    "print(f\"Recall: {grd_result['test_recall'].mean():.2f}\")\n",
    "print(f\"Precision: {grd_result['test_precision'].mean():.2f}\")\n",
    "print(f\"F1-score: {grd_result['test_f1'].mean():.2f}\")"
   ]
  },
  {
   "cell_type": "code",
   "execution_count": 37,
   "id": "f81fde63",
   "metadata": {},
   "outputs": [
    {
     "data": {
      "text/plain": [
       "GradientBoostingClassifier(n_estimators=200, random_state=1)"
      ]
     },
     "execution_count": 37,
     "metadata": {},
     "output_type": "execute_result"
    }
   ],
   "source": [
    "grdboost.fit(X,y)"
   ]
  },
  {
   "cell_type": "code",
   "execution_count": 108,
   "id": "c13c07cc",
   "metadata": {},
   "outputs": [],
   "source": [
    "train_pred_grd = grdboost.predict(X_train)\n",
    "test_pred_grd = grdboost.predict(X_test)"
   ]
  },
  {
   "cell_type": "code",
   "execution_count": 109,
   "id": "2e296bf0",
   "metadata": {},
   "outputs": [
    {
     "name": "stdout",
     "output_type": "stream",
     "text": [
      "              precision    recall  f1-score   support\n",
      "\n",
      "           N       0.96      0.99      0.98     45844\n",
      "           S       0.92      0.35      0.50       944\n",
      "           V       0.91      0.68      0.78      3788\n",
      "\n",
      "    accuracy                           0.96     50576\n",
      "   macro avg       0.93      0.67      0.75     50576\n",
      "weighted avg       0.96      0.96      0.95     50576\n",
      "\n"
     ]
    }
   ],
   "source": [
    "print(classification_report(y_train, train_pred_grd))"
   ]
  },
  {
   "cell_type": "code",
   "execution_count": 110,
   "id": "a08d0d2a",
   "metadata": {},
   "outputs": [
    {
     "name": "stdout",
     "output_type": "stream",
     "text": [
      "              precision    recall  f1-score   support\n",
      "\n",
      "           N       0.92      0.90      0.91     44238\n",
      "           S       0.12      0.00      0.01      1837\n",
      "           V       0.24      0.43      0.31      3220\n",
      "\n",
      "    accuracy                           0.84     49295\n",
      "   macro avg       0.43      0.45      0.41     49295\n",
      "weighted avg       0.84      0.84      0.84     49295\n",
      "\n"
     ]
    }
   ],
   "source": [
    "print(classification_report(y_test, test_pred_grd))"
   ]
  },
  {
   "cell_type": "code",
   "execution_count": 111,
   "id": "31db5fac",
   "metadata": {},
   "outputs": [
    {
     "data": {
      "text/plain": [
       "Text(609.9818181818181, 0.5, 'True label')"
      ]
     },
     "execution_count": 111,
     "metadata": {},
     "output_type": "execute_result"
    },
    {
     "data": {
      "image/png": "[encoded data removed]",
      "text/plain": [
       "<Figure size 1152x432 with 4 Axes>"
      ]
     },
     "metadata": {
      "needs_background": "light"
     },
     "output_type": "display_data"
    }
   ],
   "source": [
    "fig, ax = plt.subplots(1,2,figsize=(16,6))\n",
    "\n",
    "matrix_train_grd = confusion_matrix(y_train, train_pred_grd, labels=grdboost.classes_)\n",
    "matrix_test_grd = confusion_matrix(y_test, test_pred_grd, labels=grdboost.classes_)\n",
    "\n",
    "sns.heatmap(matrix_train_grd, ax=ax[0],\n",
    "            xticklabels=grdboost.classes_, \n",
    "            yticklabels=grdboost.classes_,\n",
    "            annot=True, \n",
    "            fmt='.0f', \n",
    "            cmap='rocket_r',)\n",
    "sns.heatmap(matrix_test_grd, ax=ax[1],\n",
    "            xticklabels=grdboost.classes_, \n",
    "            yticklabels=grdboost.classes_,\n",
    "            annot=True, \n",
    "            fmt='.0f', \n",
    "            cmap='rocket_r')\n",
    "plt.suptitle('Confusion matrix Gradient Boosting', fontsize=20)\n",
    "ax[0].set_title('Train set', fontsize=18)\n",
    "ax[0].set_xlabel('Predict label', fontsize=16)\n",
    "ax[0].set_ylabel('True label', fontsize=16)\n",
    "ax[1].set_title('Test set', fontsize=18)\n",
    "ax[1].set_xlabel('Predict label', fontsize=16)\n",
    "ax[1].set_ylabel('True label', fontsize=16)\n",
    "#plt.savefig(os.path.abspath('./images/confusion_xgradient_boosting.pdf'), dpi=300)"
   ]
  },
  {
   "cell_type": "markdown",
   "id": "2d4b26fa",
   "metadata": {},
   "source": [
    "# SVM"
   ]
  },
  {
   "cell_type": "code",
   "execution_count": 38,
   "id": "55939281",
   "metadata": {},
   "outputs": [],
   "source": [
    "#fitting the svm with training set\n",
    "svm_scaler = SVC(C=13.4, \n",
    "                 kernel='rbf', \n",
    "                 gamma=0.2)"
   ]
  },
  {
   "cell_type": "code",
   "execution_count": 129,
   "id": "4b0094ee",
   "metadata": {},
   "outputs": [],
   "source": [
    "svm_result = cross_validate(svm_scaler, \n",
    "                            X_train, \n",
    "                            y_train, \n",
    "                            scoring=scores_, \n",
    "                            cv=scv, \n",
    "                            n_jobs=-1,\n",
    "                            return_train_score=True)"
   ]
  },
  {
   "cell_type": "code",
   "execution_count": 130,
   "id": "115560c0",
   "metadata": {},
   "outputs": [
    {
     "name": "stdout",
     "output_type": "stream",
     "text": [
      "Metrics using 10-fold validation\n",
      "Accuracy: 0.91\n",
      "Recall: 0.91\n",
      "Accuracy: 0.87\n",
      "Accuracy: 0.89\n"
     ]
    }
   ],
   "source": [
    "print('Metrics using 10-fold validation')\n",
    "print(f\"Accuracy: {svm_result['test_accuracy'].mean():.2f}\")\n",
    "print(f\"Recall: {svm_result['test_recall'].mean():.2f}\")\n",
    "print(f\"Accuracy: {svm_result['test_precision'].mean():.2f}\")\n",
    "print(f\"Accuracy: {svm_result['test_f1'].mean():.2f}\")"
   ]
  },
  {
   "cell_type": "code",
   "execution_count": 39,
   "id": "d6f02f8f",
   "metadata": {},
   "outputs": [
    {
     "data": {
      "text/plain": [
       "SVC(C=13.4, gamma=0.2)"
      ]
     },
     "execution_count": 39,
     "metadata": {},
     "output_type": "execute_result"
    }
   ],
   "source": [
    "svm_scaler.fit(X,y)"
   ]
  },
  {
   "cell_type": "code",
   "execution_count": 132,
   "id": "84dc57c9",
   "metadata": {},
   "outputs": [],
   "source": [
    "train_pred_svm = svm_scaler.predict(X_train)\n",
    "test_pred_svm = svm_scaler.predict(X_test)"
   ]
  },
  {
   "cell_type": "code",
   "execution_count": 133,
   "id": "86cd52e6",
   "metadata": {},
   "outputs": [
    {
     "name": "stdout",
     "output_type": "stream",
     "text": [
      "REPORT OF TRAINING SET\n",
      "              precision    recall  f1-score   support\n",
      "\n",
      "           N       1.00      1.00      1.00     45844\n",
      "           S       1.00      1.00      1.00       944\n",
      "           V       1.00      1.00      1.00      3788\n",
      "\n",
      "    accuracy                           1.00     50576\n",
      "   macro avg       1.00      1.00      1.00     50576\n",
      "weighted avg       1.00      1.00      1.00     50576\n",
      "\n"
     ]
    }
   ],
   "source": [
    "print('REPORT OF TRAINING SET')\n",
    "print(classification_report(y_train,train_pred_svm))"
   ]
  },
  {
   "cell_type": "code",
   "execution_count": 134,
   "id": "32fa18c8",
   "metadata": {},
   "outputs": [
    {
     "name": "stdout",
     "output_type": "stream",
     "text": [
      "REPORT OF TEST SET\n"
     ]
    },
    {
     "name": "stderr",
     "output_type": "stream",
     "text": [
      "/media/share/comum/env/cisco/lib/python3.8/site-packages/sklearn/metrics/_classification.py:1245: UndefinedMetricWarning: Precision and F-score are ill-defined and being set to 0.0 in labels with no predicted samples. Use `zero_division` parameter to control this behavior.\n",
      "  _warn_prf(average, modifier, msg_start, len(result))\n",
      "/media/share/comum/env/cisco/lib/python3.8/site-packages/sklearn/metrics/_classification.py:1245: UndefinedMetricWarning: Precision and F-score are ill-defined and being set to 0.0 in labels with no predicted samples. Use `zero_division` parameter to control this behavior.\n",
      "  _warn_prf(average, modifier, msg_start, len(result))\n"
     ]
    },
    {
     "name": "stdout",
     "output_type": "stream",
     "text": [
      "              precision    recall  f1-score   support\n",
      "\n",
      "           N       0.90      1.00      0.95     44238\n",
      "           S       0.00      0.00      0.00      1837\n",
      "           V       0.00      0.00      0.00      3220\n",
      "\n",
      "    accuracy                           0.90     49295\n",
      "   macro avg       0.30      0.33      0.32     49295\n",
      "weighted avg       0.81      0.90      0.85     49295\n",
      "\n"
     ]
    },
    {
     "name": "stderr",
     "output_type": "stream",
     "text": [
      "/media/share/comum/env/cisco/lib/python3.8/site-packages/sklearn/metrics/_classification.py:1245: UndefinedMetricWarning: Precision and F-score are ill-defined and being set to 0.0 in labels with no predicted samples. Use `zero_division` parameter to control this behavior.\n",
      "  _warn_prf(average, modifier, msg_start, len(result))\n"
     ]
    }
   ],
   "source": [
    "print('REPORT OF TEST SET')\n",
    "print(classification_report(y_test,test_pred_svm))"
   ]
  },
  {
   "cell_type": "code",
   "execution_count": 136,
   "id": "e8fcc63d",
   "metadata": {},
   "outputs": [
    {
     "data": {
      "text/plain": [
       "Text(609.9818181818181, 0.5, 'True label')"
      ]
     },
     "execution_count": 136,
     "metadata": {},
     "output_type": "execute_result"
    },
    {
     "data": {
      "image/png": "[encoded data removed]",
      "text/plain": [
       "<Figure size 1152x432 with 4 Axes>"
      ]
     },
     "metadata": {
      "needs_background": "light"
     },
     "output_type": "display_data"
    }
   ],
   "source": [
    "fig, ax = plt.subplots(1,2,figsize=(16,6))\n",
    "\n",
    "matrix_train_svm = confusion_matrix(y_train,train_pred_svm,labels=svm_scaler.classes_)\n",
    "matrix_test_svm = confusion_matrix(y_test,test_pred_svm,labels=svm_scaler.classes_)\n",
    "\n",
    "sns.heatmap(matrix_train_svm, ax=ax[0],\n",
    "            xticklabels=svm_scaler.classes_, \n",
    "            yticklabels=svm_scaler.classes_,\n",
    "            annot=True, \n",
    "            fmt='.0f', \n",
    "            cmap='rocket_r',)\n",
    "sns.heatmap(matrix_test_svm, ax=ax[1],\n",
    "            xticklabels=svm_scaler.classes_, \n",
    "            yticklabels=svm_scaler.classes_,\n",
    "            annot=True, \n",
    "            fmt='.0f', \n",
    "            cmap='rocket_r')\n",
    "plt.suptitle('Confusion matrix SVM', fontsize=20)\n",
    "ax[0].set_title('Train set', fontsize=18)\n",
    "ax[0].set_xlabel('Predict label', fontsize=16)\n",
    "ax[0].set_ylabel('True label', fontsize=16)\n",
    "ax[1].set_title('Test set', fontsize=18)\n",
    "ax[1].set_xlabel('Predict label', fontsize=16)\n",
    "ax[1].set_ylabel('True label', fontsize=16)"
   ]
  },
  {
   "cell_type": "code",
   "execution_count": 40,
   "id": "3d966599",
   "metadata": {},
   "outputs": [
    {
     "name": "stderr",
     "output_type": "stream",
     "text": [
      "/media/share/comum/env/nevasca/lib/python3.8/site-packages/tensorflow/python/keras/engine/sequential.py:425: UserWarning: `model.predict_proba()` is deprecated and will be removed after 2021-01-01. Please use `model.predict()` instead.\n",
      "  warnings.warn('`model.predict_proba()` is deprecated and '\n"
     ]
    }
   ],
   "source": [
    "dec_funct_xgb = xgboost.predict_proba(X_t)\n",
    "dec_funct_grd = grdboost.decision_function(X_t)\n",
    "dec_funct_svm = svm_scaler.decision_function(X_t)\n",
    "dec_funct_ann = model.predict_proba(X_t)"
   ]
  },
  {
   "cell_type": "code",
   "execution_count": 44,
   "id": "b1408a3e",
   "metadata": {},
   "outputs": [
    {
     "data": {
      "image/png": "[encoded data removed]",
      "text/plain": [
       "<Figure size 864x576 with 1 Axes>"
      ]
     },
     "metadata": {
      "needs_background": "light"
     },
     "output_type": "display_data"
    }
   ],
   "source": [
    "classifiers = ['XGradient_Boost','Gradient_Boost','SVM', 'ANN']\n",
    "dec_functs = [dec_funct_xgb, dec_funct_grd, dec_funct_svm, dec_funct_ann]\n",
    "\n",
    "plot_all_roc_auc_curves(dummy_y_test, dec_functs, classifiers)"
   ]
  },
  {
   "cell_type": "code",
   "execution_count": null,
   "id": "f76c99f4",
   "metadata": {},
   "outputs": [],
   "source": []
  }
 ],
 "metadata": {
  "kernelspec": {
   "display_name": "Python 3",
   "language": "python",
   "name": "python3"
  },
  "language_info": {
   "codemirror_mode": {
    "name": "ipython",
    "version": 3
   },
   "file_extension": ".py",
   "mimetype": "text/x-python",
   "name": "python",
   "nbconvert_exporter": "python",
   "pygments_lexer": "ipython3",
   "version": "3.8.5"
  }
 },
 "nbformat": 4,
 "nbformat_minor": 5
}
